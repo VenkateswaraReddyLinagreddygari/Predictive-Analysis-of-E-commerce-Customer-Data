{
 "cells": [
  {
   "cell_type": "markdown",
   "id": "edb5e6f2",
   "metadata": {},
   "source": []
  },
  {
   "cell_type": "code",
   "execution_count": 1,
   "id": "6fc2bb24",
   "metadata": {},
   "outputs": [],
   "source": [
    "# This code appears in every demonstration Notebook.\n",
    "# By default, when you run each cell, only the last output of the codes will show.\n",
    "# This code makes all outputs of a cell show.\n",
    "from IPython.core.interactiveshell import InteractiveShell\n",
    "InteractiveShell.ast_node_interactivity = \"all\""
   ]
  },
  {
   "cell_type": "markdown",
   "id": "409e4901",
   "metadata": {},
   "source": [
    "### We will analyze JD Data in the rest of our assignments.\n",
    "The objective: to build models to accurately predict delivery times for customer orders.<br>\n",
    "The data: We need the following tables from the JD.com data<br>\n",
    "        1. Order<br>\n",
    "        2. User<br>\n",
    "        3. Delivery<br>\n",
    "        4. Inventory<br>\n",
    "        5. Network<br>        "
   ]
  },
  {
   "cell_type": "markdown",
   "id": "959c44b9",
   "metadata": {},
   "source": [
    "#### Assignment 8 include Q1 - Q10."
   ]
  },
  {
   "cell_type": "markdown",
   "id": "52749b83",
   "metadata": {},
   "source": [
    "1. Import necessary packages."
   ]
  },
  {
   "cell_type": "code",
   "execution_count": 2,
   "id": "e832a01e",
   "metadata": {},
   "outputs": [],
   "source": [
    "import pandas as pd"
   ]
  },
  {
   "cell_type": "markdown",
   "id": "2169b408",
   "metadata": {},
   "source": [
    "2. Read in the five csv files."
   ]
  },
  {
   "cell_type": "code",
   "execution_count": 3,
   "id": "4c19a50a",
   "metadata": {},
   "outputs": [],
   "source": [
    "df_order = pd.read_csv(\"JD_order_data.csv\")\n",
    "df_user = pd.read_csv(\"JD_user_data.csv\")\n",
    "df_delivery = pd.read_csv(\"JD_delivery_data.csv\")\n",
    "df_inventory = pd.read_csv(\"JD_inventory_data.csv\")\n",
    "df_network = pd.read_csv(\"JD_network_data.csv\")"
   ]
  },
  {
   "cell_type": "markdown",
   "id": "68e999a7",
   "metadata": {},
   "source": [
    "3. Display a sample of each data frame. How many observations? How many columns? What are the column names? (Use code to display such information.)"
   ]
  },
  {
   "cell_type": "code",
   "execution_count": 4,
   "id": "66478200",
   "metadata": {},
   "outputs": [
    {
     "name": "stdout",
     "output_type": "stream",
     "text": [
      "Number of observations in 'Order data': 549989 \n",
      "\n",
      "Number of columns in 'Order data': 17 \n",
      "\n",
      "Column names in 'Order data' : ['order_ID', 'user_ID', 'sku_ID', 'order_date', 'order_time', 'quantity', 'type', 'promise', 'original_unit_price', 'final_unit_price', 'direct_discount_per_unit', 'quantity_discount_per_unit', 'bundle_discount_per_unit', 'coupon_discount_per_unit', 'gift_item', 'dc_ori', 'dc_des'] \n",
      "\n",
      "\n",
      "\n",
      "\n",
      "Number of observations in 'User data': 457298 \n",
      "\n",
      "Number of columns in 'User data': 10 \n",
      "\n",
      "Column names in 'User data' : ['user_ID', 'user_level', 'first_order_month', 'plus', 'gender', 'age', 'marital_status', 'education', 'city_level', 'purchase_power'] \n",
      "\n",
      "\n",
      "\n",
      "\n",
      "Number of observations in 'Delivery data': 293229 \n",
      "\n",
      "Number of columns in 'Delivery data': 6 \n",
      "\n",
      "Column names in 'Delivery data' : ['package_ID', 'order_ID', 'type', 'ship_out_time', 'arr_station_time', 'arr_time'] \n",
      "\n",
      "\n",
      "\n",
      "\n",
      "Number of observations in 'Inventory data': 136079 \n",
      "\n",
      "Number of columns in 'Inventory data': 3 \n",
      "\n",
      "Column names in 'Inventory data' : ['dc_ID', 'sku_ID', 'date'] \n",
      "\n",
      "\n",
      "\n",
      "\n",
      "Number of observations in 'Network data': 56 \n",
      "\n",
      "Number of columns in 'Network data': 2 \n",
      "\n",
      "Column names in 'Network data' : ['region_ID', 'dc_ID'] \n",
      "\n",
      "\n",
      "\n",
      "\n"
     ]
    }
   ],
   "source": [
    "print(\"Number of observations in 'Order data':\", len(df_order), \"\\n\")\n",
    "print(\"Number of columns in 'Order data':\", len(df_order.columns), \"\\n\")\n",
    "print(\"Column names in 'Order data' :\", df_order.columns.tolist(), \"\\n\\n\\n\\n\")\n",
    "\n",
    "\n",
    "print(\"Number of observations in 'User data':\", len(df_user), \"\\n\")\n",
    "print(\"Number of columns in 'User data':\", len(df_user.columns), \"\\n\")\n",
    "print(\"Column names in 'User data' :\", df_user.columns.tolist(), \"\\n\\n\\n\\n\")\n",
    "\n",
    "\n",
    "print(\"Number of observations in 'Delivery data':\", len(df_delivery), \"\\n\")\n",
    "print(\"Number of columns in 'Delivery data':\", len(df_delivery.columns), \"\\n\")\n",
    "print(\"Column names in 'Delivery data' :\", df_delivery.columns.tolist(), \"\\n\\n\\n\\n\")\n",
    "\n",
    "\n",
    "print(\"Number of observations in 'Inventory data':\", len(df_inventory), \"\\n\")\n",
    "print(\"Number of columns in 'Inventory data':\", len(df_inventory.columns), \"\\n\")\n",
    "print(\"Column names in 'Inventory data' :\", df_inventory.columns.tolist(), \"\\n\\n\\n\\n\")\n",
    "\n",
    "\n",
    "print(\"Number of observations in 'Network data':\", len(df_network), \"\\n\")\n",
    "print(\"Number of columns in 'Network data':\", len(df_network.columns), \"\\n\")\n",
    "print(\"Column names in 'Network data' :\", df_network.columns.tolist(), \"\\n\\n\\n\\n\")"
   ]
  },
  {
   "cell_type": "markdown",
   "id": "740303fd",
   "metadata": {},
   "source": [
    "4. Check for missing values of columns of each dataframe. You can use sum() (instead of any()) to find out the number of missing values. Which variables have missing values?"
   ]
  },
  {
   "cell_type": "code",
   "execution_count": 5,
   "id": "d3b23faf",
   "metadata": {},
   "outputs": [
    {
     "name": "stdout",
     "output_type": "stream",
     "text": [
      "order_ID                      0\n",
      "user_ID                       0\n",
      "sku_ID                        0\n",
      "order_date                    0\n",
      "order_time                    0\n",
      "quantity                      0\n",
      "type                          0\n",
      "promise                       0\n",
      "original_unit_price           0\n",
      "final_unit_price              0\n",
      "direct_discount_per_unit      0\n",
      "quantity_discount_per_unit    0\n",
      "bundle_discount_per_unit      0\n",
      "coupon_discount_per_unit      0\n",
      "gift_item                     0\n",
      "dc_ori                        0\n",
      "dc_des                        0\n",
      "dtype: int64\n",
      "Series([], dtype: int64) \n",
      "\n",
      "\n",
      "\n",
      "\n",
      "user_ID              0\n",
      "user_level           0\n",
      "first_order_month    0\n",
      "plus                 0\n",
      "gender               0\n",
      "age                  0\n",
      "marital_status       0\n",
      "education            0\n",
      "city_level           0\n",
      "purchase_power       0\n",
      "dtype: int64\n",
      "Series([], dtype: int64) \n",
      "\n",
      "\n",
      "\n",
      "\n",
      "package_ID          0\n",
      "order_ID            0\n",
      "type                0\n",
      "ship_out_time       0\n",
      "arr_station_time    0\n",
      "arr_time            0\n",
      "dtype: int64\n",
      "Series([], dtype: int64) \n",
      "\n",
      "\n",
      "\n",
      "\n",
      "dc_ID     0\n",
      "sku_ID    0\n",
      "date      0\n",
      "dtype: int64\n",
      "Series([], dtype: int64) \n",
      "\n",
      "\n",
      "\n",
      "\n",
      "region_ID    0\n",
      "dc_ID        0\n",
      "dtype: int64\n",
      "Series([], dtype: int64) \n",
      "\n",
      "\n",
      "\n",
      "\n"
     ]
    }
   ],
   "source": [
    "missing_values_order= df_order.isna().sum()\n",
    "print(missing_values_order)\n",
    "var_missing_values_order = missing_values_order[missing_values_order > 0]\n",
    "print(var_missing_values_order,\"\\n\\n\\n\\n\")\n",
    "\n",
    "\n",
    "\n",
    "missing_values_user= df_user.isna().sum()\n",
    "print(missing_values_user)\n",
    "var_missing_values_user = missing_values_user[missing_values_user > 0]\n",
    "print(var_missing_values_user,\"\\n\\n\\n\\n\")\n",
    "\n",
    "\n",
    "missing_values_delivery= df_delivery.isna().sum()\n",
    "print(missing_values_delivery)\n",
    "var_missing_values_delivery = missing_values_delivery[missing_values_delivery > 0]\n",
    "print(var_missing_values_delivery,\"\\n\\n\\n\\n\")\n",
    "\n",
    "\n",
    "missing_values_inventory= df_inventory.isna().sum()\n",
    "print(missing_values_inventory)\n",
    "var_missing_values_inventory = missing_values_inventory[missing_values_inventory > 0]\n",
    "print(var_missing_values_inventory,\"\\n\\n\\n\\n\")\n",
    "\n",
    "\n",
    "missing_values_network= df_network.isna().sum()\n",
    "print(missing_values_network)\n",
    "var_missing_values_network= missing_values_network[missing_values_network > 0]\n",
    "print(var_missing_values_network,\"\\n\\n\\n\\n\")"
   ]
  },
  {
   "cell_type": "markdown",
   "id": "d8417be7",
   "metadata": {},
   "source": [
    "5. Check the promise variable in orders table. What unusual values do you notice? What do you think it means?"
   ]
  },
  {
   "cell_type": "code",
   "execution_count": 6,
   "id": "db6c21e7",
   "metadata": {},
   "outputs": [
    {
     "data": {
      "text/plain": [
       "array(['-', '2', '1', '3', '4', '5', '6', '7', '8'], dtype=object)"
      ]
     },
     "execution_count": 6,
     "metadata": {},
     "output_type": "execute_result"
    }
   ],
   "source": [
    "unique_promise_values=df_order['promise'].unique()\n",
    "unique_promise_values "
   ]
  },
  {
   "cell_type": "markdown",
   "id": "7f44a1aa",
   "metadata": {},
   "source": [
    "6. How many observations for each value in 'promise' variable? What information can you draw from this?"
   ]
  },
  {
   "cell_type": "code",
   "execution_count": 7,
   "id": "ed4221a7",
   "metadata": {
    "scrolled": true
   },
   "outputs": [
    {
     "data": {
      "text/plain": [
       "-    208583\n",
       "1    157509\n",
       "2    109990\n",
       "3     33176\n",
       "4     23882\n",
       "5     10054\n",
       "6      3039\n",
       "8      2374\n",
       "7      1382\n",
       "Name: promise, dtype: int64"
      ]
     },
     "execution_count": 7,
     "metadata": {},
     "output_type": "execute_result"
    }
   ],
   "source": [
    "promise_value_counts = df_order['promise'].value_counts()\n",
    "promise_value_counts"
   ]
  },
  {
   "cell_type": "markdown",
   "id": "056bb6b2",
   "metadata": {},
   "source": [
    "7. Select only two variables: 'type' and 'promise' from order table. Sort it by variable 'type' in descending order. What do you observe from the results? (check the first 10 and last 10 observations.) Think about the meaning of the type variable."
   ]
  },
  {
   "cell_type": "code",
   "execution_count": 8,
   "id": "e7c4bf62",
   "metadata": {},
   "outputs": [
    {
     "name": "stdout",
     "output_type": "stream",
     "text": [
      "First 10 observations:\n",
      "        type promise\n",
      "0          2       -\n",
      "308329     2       -\n",
      "308358     2       -\n",
      "308357     2       -\n",
      "308356     2       -\n",
      "308355     2       -\n",
      "308354     2       -\n",
      "308353     2       -\n",
      "308352     2       -\n",
      "308351     2       -\n",
      "\n",
      "Last 10 observations:\n",
      "        type promise\n",
      "334636     1       1\n",
      "334633     1       1\n",
      "334626     1       1\n",
      "334632     1       1\n",
      "334631     1       1\n",
      "116820     1       2\n",
      "116821     1       2\n",
      "116822     1       1\n",
      "334627     1       1\n",
      "274994     1       2\n"
     ]
    }
   ],
   "source": [
    "selected_columns = df_order[['type', 'promise']]\n",
    "\n",
    "# Sort by 'type' in descending order\n",
    "sorted_data = selected_columns.sort_values(by='type', ascending=False)\n",
    "first_10 = sorted_data.head(10)\n",
    "last_10 = sorted_data.tail(10)\n",
    "print(\"First 10 observations:\")\n",
    "print(first_10)\n",
    "print(\"\\nLast 10 observations:\")\n",
    "print(last_10)"
   ]
  },
  {
   "cell_type": "markdown",
   "id": "0df0b8a6",
   "metadata": {},
   "source": [
    "8. Merge order and delivery tables, using inner merge. What does inner merge mean? How many observations are there in the merged dataset? Compared with the number of observations in the original order and delivery table, what can you say about the match between orders and deliveries?"
   ]
  },
  {
   "cell_type": "code",
   "execution_count": 9,
   "id": "f3678054",
   "metadata": {},
   "outputs": [
    {
     "name": "stdout",
     "output_type": "stream",
     "text": [
      "Number of observations in 'Merged table': 326862 \n",
      "\n",
      "Number of observations in 'Order data': 549989 \n",
      "\n",
      "Number of observations in 'Delivery data': 293229 \n",
      "\n"
     ]
    }
   ],
   "source": [
    "import pandas as pd\n",
    "\n",
    "# Assuming you have DataFrames 'order' and 'delivery'\n",
    "merged_data_inner = pd.merge(df_order, df_delivery, on='order_ID', how='inner')\n",
    "print(\"Number of observations in 'Merged table':\", len(merged_data_inner), \"\\n\")\n",
    "print(\"Number of observations in 'Order data':\", len(df_order), \"\\n\")\n",
    "print(\"Number of observations in 'Delivery data':\", len(df_delivery), \"\\n\")"
   ]
  },
  {
   "cell_type": "markdown",
   "id": "71c34250",
   "metadata": {},
   "source": [
    "9. Merge order and delivery tables, using right merge. What does right merge mean? How many obervations are there in the merged dataset? Do all delivery records have matched order information?"
   ]
  },
  {
   "cell_type": "code",
   "execution_count": 10,
   "id": "8f086ba4",
   "metadata": {},
   "outputs": [
    {
     "name": "stdout",
     "output_type": "stream",
     "text": [
      "Number of observations in 'Merged table': 326862 \n",
      "\n",
      "          order_ID     user_ID      sku_ID  order_date             order_time  \\\n",
      "0       dc3d6d2258  ee666e25c3  2e06817802  2018-03-01  2018-03-01 06:21:07.0   \n",
      "1       19802a570c  845df5b5f2  5ae1bb1c76  2018-03-01  2018-03-01 09:10:09.0   \n",
      "2       e22627af66  cae0d8c01f  b8c182c74f  2018-03-01  2018-03-01 10:50:41.0   \n",
      "3       e22627af66  cae0d8c01f  c98d32ff09  2018-03-01  2018-03-01 10:50:41.0   \n",
      "4       e22627af66  cae0d8c01f  c98d32ff09  2018-03-01  2018-03-01 10:50:41.0   \n",
      "...            ...         ...         ...         ...                    ...   \n",
      "326857  cb319102f1  df8c108eff  ac0cd64708  2018-03-31  2018-03-31 23:38:17.0   \n",
      "326858  0fe3bbcfd8  b1fa95ae5e  068f4481b3  2018-03-22  2018-03-22 17:42:37.0   \n",
      "326859  0fe3bbcfd8  b1fa95ae5e  fbce41fd82  2018-03-22  2018-03-22 17:42:37.0   \n",
      "326860  0fe3bbcfd8  b1fa95ae5e  8dc4a01dec  2018-03-22  2018-03-22 17:42:37.0   \n",
      "326861  d22fa05841  4032897ccb  50b53a8536  2018-03-24  2018-03-24 14:50:47.0   \n",
      "\n",
      "        quantity  type_x promise  original_unit_price  final_unit_price  ...  \\\n",
      "0              1       1       1                 36.0         33.000000  ...   \n",
      "1              1       1       1                 78.0         59.000000  ...   \n",
      "2              1       1       1                230.0        188.000000  ...   \n",
      "3              3       1       1                  0.0          0.000000  ...   \n",
      "4              3       1       1                  0.0         -0.333333  ...   \n",
      "...          ...     ...     ...                  ...               ...  ...   \n",
      "326857         2       1       6                 69.9         44.900000  ...   \n",
      "326858         1       1       8                298.0        232.000000  ...   \n",
      "326859         1       1       8                178.0        158.000000  ...   \n",
      "326860         2       1       8                 78.0         54.500000  ...   \n",
      "326861         1       1       8                 99.0         65.000000  ...   \n",
      "\n",
      "        bundle_discount_per_unit  coupon_discount_per_unit  gift_item  dc_ori  \\\n",
      "0                            0.0                  3.000000          0       4   \n",
      "1                            0.0                  0.000000          0       2   \n",
      "2                            0.0                 42.000000          0       5   \n",
      "3                            0.0                  0.000000          1       5   \n",
      "4                            0.0                  0.333333          1       5   \n",
      "...                          ...                       ...        ...     ...   \n",
      "326857                       0.0                  0.000000          0      24   \n",
      "326858                      66.0                  0.000000          0      41   \n",
      "326859                      20.0                  0.000000          0      41   \n",
      "326860                      13.5                 10.000000          0      41   \n",
      "326861                       0.0                  0.000000          0       4   \n",
      "\n",
      "        dc_des  package_ID  type_y        ship_out_time     arr_station_time  \\\n",
      "0            4  dc3d6d2258       1  2018-03-01 08:00:00  2018-03-01 15:00:00   \n",
      "1            2  19802a570c       1  2018-03-01 10:00:00  2018-03-01 15:00:00   \n",
      "2            5  e22627af66       1  2018-03-01 11:00:00  2018-03-01 15:00:00   \n",
      "3            5  e22627af66       1  2018-03-01 11:00:00  2018-03-01 15:00:00   \n",
      "4            5  e22627af66       1  2018-03-01 11:00:00  2018-03-01 15:00:00   \n",
      "...        ...         ...     ...                  ...                  ...   \n",
      "326857      41  cb319102f1       1  2018-04-01 10:00:00  2018-04-07 11:00:00   \n",
      "326858      41  0fe3bbcfd8       1  2018-03-31 13:00:00  2018-04-04 22:00:00   \n",
      "326859      41  0fe3bbcfd8       1  2018-03-31 13:00:00  2018-04-04 22:00:00   \n",
      "326860      41  0fe3bbcfd8       1  2018-03-31 13:00:00  2018-04-04 22:00:00   \n",
      "326861       4  d22fa05841       1  2018-03-25 09:00:00  2018-03-26 09:00:00   \n",
      "\n",
      "                   arr_time  \n",
      "0       2018-03-01 18:00:00  \n",
      "1       2018-03-01 17:00:00  \n",
      "2       2018-03-01 17:00:00  \n",
      "3       2018-03-01 17:00:00  \n",
      "4       2018-03-01 17:00:00  \n",
      "...                     ...  \n",
      "326857  2018-04-07 15:00:00  \n",
      "326858  2018-04-07 11:00:00  \n",
      "326859  2018-04-07 11:00:00  \n",
      "326860  2018-04-07 11:00:00  \n",
      "326861  2018-04-07 14:00:00  \n",
      "\n",
      "[326862 rows x 22 columns]\n",
      "        package_ID    order_ID  type        ship_out_time  \\\n",
      "0       dc3d6d2258  dc3d6d2258     1  2018-03-01 08:00:00   \n",
      "1       19802a570c  19802a570c     1  2018-03-01 10:00:00   \n",
      "2       e22627af66  e22627af66     1  2018-03-01 11:00:00   \n",
      "3       50d11a586d  50d11a586d     1  2018-03-01 10:00:00   \n",
      "4       a3bfe38bf4  a3bfe38bf4     1  2018-03-01 11:00:00   \n",
      "...            ...         ...   ...                  ...   \n",
      "293224  6130c1b7d1  6130c1b7d1     1  2018-04-01 09:00:00   \n",
      "293225  77df47b5cb  ffe59a02ed     0  2018-03-30 11:00:00   \n",
      "293226  cb319102f1  cb319102f1     1  2018-04-01 10:00:00   \n",
      "293227  0fe3bbcfd8  0fe3bbcfd8     1  2018-03-31 13:00:00   \n",
      "293228  d22fa05841  d22fa05841     1  2018-03-25 09:00:00   \n",
      "\n",
      "           arr_station_time             arr_time  \n",
      "0       2018-03-01 15:00:00  2018-03-01 18:00:00  \n",
      "1       2018-03-01 15:00:00  2018-03-01 17:00:00  \n",
      "2       2018-03-01 15:00:00  2018-03-01 17:00:00  \n",
      "3       2018-03-01 16:00:00  2018-03-01 19:00:00  \n",
      "4       2018-03-01 16:00:00  2018-03-01 17:00:00  \n",
      "...                     ...                  ...  \n",
      "293224  2018-04-05 18:00:00  2018-04-07 10:00:00  \n",
      "293225  2018-04-06 06:00:00  2018-04-07 15:00:00  \n",
      "293226  2018-04-07 11:00:00  2018-04-07 15:00:00  \n",
      "293227  2018-04-04 22:00:00  2018-04-07 11:00:00  \n",
      "293228  2018-03-26 09:00:00  2018-04-07 14:00:00  \n",
      "\n",
      "[293229 rows x 6 columns]\n"
     ]
    }
   ],
   "source": [
    "merged_data_right = pd.merge(df_order, df_delivery, on='order_ID', how='right')\n",
    "print(\"Number of observations in 'Merged table':\", len(merged_data_right), \"\\n\")\n",
    "print(merged_data_right)\n",
    "print(df_delivery)"
   ]
  },
  {
   "cell_type": "markdown",
   "id": "6b9bbe86",
   "metadata": {},
   "source": [
    "10. Merge order and delivery tables, using left merge. What does left merge mean? How many obervations are there in the merged dataset? Compare the number of observations of the merged table with the original order table, what can you say about the match between orders and deliveries?"
   ]
  },
  {
   "cell_type": "code",
   "execution_count": 11,
   "id": "0c26a7f4",
   "metadata": {},
   "outputs": [
    {
     "name": "stdout",
     "output_type": "stream",
     "text": [
      "Number of observations in 'Merged table': 550017 \n",
      "\n",
      "Number of observations in 'Order table': 549989 \n",
      "\n"
     ]
    }
   ],
   "source": [
    "merged_data_left = pd.merge(df_order, df_delivery, on='order_ID', how='left')\n",
    "print(\"Number of observations in 'Merged table':\", len(merged_data_left), \"\\n\")\n",
    "print(\"Number of observations in 'Order table':\", len(df_order), \"\\n\")"
   ]
  },
  {
   "cell_type": "markdown",
   "id": "b96e04d2",
   "metadata": {},
   "source": [
    "### Assignment 9 starts here. Q11 - Q20."
   ]
  },
  {
   "cell_type": "markdown",
   "id": "5f47c320",
   "metadata": {},
   "source": [
    "In this part, we prepare the data for analysis."
   ]
  },
  {
   "cell_type": "markdown",
   "id": "a3c58838",
   "metadata": {},
   "source": [
    "11. First, we need to clean the merged order and delivery table.<br>\n",
    "Identify the table from the inner merge in Q8. Take a look at it. You may find there are two variables: type_x and type_y, which were not in the original two tables.<br>\n",
    "The reason is that there is a type variable in both orders and delivery tables. The merge keeps both and assigned x and y suffix to them.<br>\n",
    "Check the meaning of the two variables in our data description.<br>\n",
    "To make the two variables consistent, we can replace the values of one variable to match the other."
   ]
  },
  {
   "cell_type": "code",
   "execution_count": 12,
   "id": "45855a47",
   "metadata": {},
   "outputs": [
    {
     "data": {
      "text/html": [
       "<div>\n",
       "<style scoped>\n",
       "    .dataframe tbody tr th:only-of-type {\n",
       "        vertical-align: middle;\n",
       "    }\n",
       "\n",
       "    .dataframe tbody tr th {\n",
       "        vertical-align: top;\n",
       "    }\n",
       "\n",
       "    .dataframe thead th {\n",
       "        text-align: right;\n",
       "    }\n",
       "</style>\n",
       "<table border=\"1\" class=\"dataframe\">\n",
       "  <thead>\n",
       "    <tr style=\"text-align: right;\">\n",
       "      <th></th>\n",
       "      <th>order_ID</th>\n",
       "      <th>user_ID</th>\n",
       "      <th>sku_ID</th>\n",
       "      <th>order_date</th>\n",
       "      <th>order_time</th>\n",
       "      <th>quantity</th>\n",
       "      <th>type_x</th>\n",
       "      <th>promise</th>\n",
       "      <th>original_unit_price</th>\n",
       "      <th>final_unit_price</th>\n",
       "      <th>...</th>\n",
       "      <th>bundle_discount_per_unit</th>\n",
       "      <th>coupon_discount_per_unit</th>\n",
       "      <th>gift_item</th>\n",
       "      <th>dc_ori</th>\n",
       "      <th>dc_des</th>\n",
       "      <th>package_ID</th>\n",
       "      <th>type_y</th>\n",
       "      <th>ship_out_time</th>\n",
       "      <th>arr_station_time</th>\n",
       "      <th>arr_time</th>\n",
       "    </tr>\n",
       "  </thead>\n",
       "  <tbody>\n",
       "    <tr>\n",
       "      <th>0</th>\n",
       "      <td>7444318d01</td>\n",
       "      <td>33a9e56257</td>\n",
       "      <td>067b673f2b</td>\n",
       "      <td>2018-03-01</td>\n",
       "      <td>2018-03-01 11:10:40.0</td>\n",
       "      <td>1</td>\n",
       "      <td>1</td>\n",
       "      <td>2</td>\n",
       "      <td>99.9</td>\n",
       "      <td>53.9</td>\n",
       "      <td>...</td>\n",
       "      <td>0.0</td>\n",
       "      <td>0.0</td>\n",
       "      <td>0</td>\n",
       "      <td>28</td>\n",
       "      <td>28</td>\n",
       "      <td>7444318d01</td>\n",
       "      <td>1</td>\n",
       "      <td>2018-03-01 13:00:00</td>\n",
       "      <td>2018-03-02 08:00:00</td>\n",
       "      <td>2018-03-02 14:00:00</td>\n",
       "    </tr>\n",
       "    <tr>\n",
       "      <th>1</th>\n",
       "      <td>f973b01694</td>\n",
       "      <td>4ea3cf408f</td>\n",
       "      <td>623d0a582a</td>\n",
       "      <td>2018-03-01</td>\n",
       "      <td>2018-03-01 09:13:26.0</td>\n",
       "      <td>1</td>\n",
       "      <td>1</td>\n",
       "      <td>2</td>\n",
       "      <td>78.0</td>\n",
       "      <td>58.5</td>\n",
       "      <td>...</td>\n",
       "      <td>0.0</td>\n",
       "      <td>0.0</td>\n",
       "      <td>0</td>\n",
       "      <td>28</td>\n",
       "      <td>28</td>\n",
       "      <td>f973b01694</td>\n",
       "      <td>1</td>\n",
       "      <td>2018-03-01 14:00:00</td>\n",
       "      <td>2018-03-02 09:00:00</td>\n",
       "      <td>2018-03-02 13:00:00</td>\n",
       "    </tr>\n",
       "    <tr>\n",
       "      <th>2</th>\n",
       "      <td>8c1cec8d4b</td>\n",
       "      <td>b87cb736cb</td>\n",
       "      <td>fc5289b139</td>\n",
       "      <td>2018-03-01</td>\n",
       "      <td>2018-03-01 21:29:50.0</td>\n",
       "      <td>1</td>\n",
       "      <td>1</td>\n",
       "      <td>2</td>\n",
       "      <td>61.0</td>\n",
       "      <td>35.0</td>\n",
       "      <td>...</td>\n",
       "      <td>0.0</td>\n",
       "      <td>0.0</td>\n",
       "      <td>0</td>\n",
       "      <td>4</td>\n",
       "      <td>28</td>\n",
       "      <td>8c1cec8d4b</td>\n",
       "      <td>1</td>\n",
       "      <td>2018-03-02 09:00:00</td>\n",
       "      <td>2018-03-03 08:00:00</td>\n",
       "      <td>2018-03-04 11:00:00</td>\n",
       "    </tr>\n",
       "    <tr>\n",
       "      <th>3</th>\n",
       "      <td>d43a33c38a</td>\n",
       "      <td>4829223b6f</td>\n",
       "      <td>623d0a582a</td>\n",
       "      <td>2018-03-01</td>\n",
       "      <td>2018-03-01 19:13:37.0</td>\n",
       "      <td>1</td>\n",
       "      <td>1</td>\n",
       "      <td>1</td>\n",
       "      <td>78.0</td>\n",
       "      <td>53.0</td>\n",
       "      <td>...</td>\n",
       "      <td>0.0</td>\n",
       "      <td>6.0</td>\n",
       "      <td>0</td>\n",
       "      <td>3</td>\n",
       "      <td>16</td>\n",
       "      <td>d43a33c38a</td>\n",
       "      <td>1</td>\n",
       "      <td>2018-03-01 20:00:00</td>\n",
       "      <td>2018-03-02 07:00:00</td>\n",
       "      <td>2018-03-02 11:00:00</td>\n",
       "    </tr>\n",
       "    <tr>\n",
       "      <th>4</th>\n",
       "      <td>e0f5386d87</td>\n",
       "      <td>0b07cae293</td>\n",
       "      <td>589c2b865b</td>\n",
       "      <td>2018-03-01</td>\n",
       "      <td>2018-03-01 21:09:15.0</td>\n",
       "      <td>1</td>\n",
       "      <td>1</td>\n",
       "      <td>1</td>\n",
       "      <td>79.9</td>\n",
       "      <td>38.9</td>\n",
       "      <td>...</td>\n",
       "      <td>0.0</td>\n",
       "      <td>0.0</td>\n",
       "      <td>0</td>\n",
       "      <td>3</td>\n",
       "      <td>16</td>\n",
       "      <td>e0f5386d87</td>\n",
       "      <td>1</td>\n",
       "      <td>2018-03-01 22:00:00</td>\n",
       "      <td>2018-03-02 09:00:00</td>\n",
       "      <td>2018-03-02 12:00:00</td>\n",
       "    </tr>\n",
       "    <tr>\n",
       "      <th>...</th>\n",
       "      <td>...</td>\n",
       "      <td>...</td>\n",
       "      <td>...</td>\n",
       "      <td>...</td>\n",
       "      <td>...</td>\n",
       "      <td>...</td>\n",
       "      <td>...</td>\n",
       "      <td>...</td>\n",
       "      <td>...</td>\n",
       "      <td>...</td>\n",
       "      <td>...</td>\n",
       "      <td>...</td>\n",
       "      <td>...</td>\n",
       "      <td>...</td>\n",
       "      <td>...</td>\n",
       "      <td>...</td>\n",
       "      <td>...</td>\n",
       "      <td>...</td>\n",
       "      <td>...</td>\n",
       "      <td>...</td>\n",
       "      <td>...</td>\n",
       "    </tr>\n",
       "    <tr>\n",
       "      <th>326857</th>\n",
       "      <td>5fd298d448</td>\n",
       "      <td>165ee3e319</td>\n",
       "      <td>f7280c119d</td>\n",
       "      <td>2018-03-31</td>\n",
       "      <td>2018-03-31 12:42:35.0</td>\n",
       "      <td>1</td>\n",
       "      <td>2</td>\n",
       "      <td>3</td>\n",
       "      <td>269.0</td>\n",
       "      <td>189.0</td>\n",
       "      <td>...</td>\n",
       "      <td>0.0</td>\n",
       "      <td>0.0</td>\n",
       "      <td>0</td>\n",
       "      <td>2</td>\n",
       "      <td>2</td>\n",
       "      <td>1b81523e8d</td>\n",
       "      <td>0</td>\n",
       "      <td>2018-03-31 13:00:00</td>\n",
       "      <td>2018-04-02 07:00:00</td>\n",
       "      <td>2018-04-02 13:00:00</td>\n",
       "    </tr>\n",
       "    <tr>\n",
       "      <th>326858</th>\n",
       "      <td>9fa0694b3b</td>\n",
       "      <td>39933e9bc6</td>\n",
       "      <td>767ac490ed</td>\n",
       "      <td>2018-03-31</td>\n",
       "      <td>2018-03-31 19:51:43.0</td>\n",
       "      <td>1</td>\n",
       "      <td>1</td>\n",
       "      <td>2</td>\n",
       "      <td>0.0</td>\n",
       "      <td>-1.0</td>\n",
       "      <td>...</td>\n",
       "      <td>0.0</td>\n",
       "      <td>0.0</td>\n",
       "      <td>1</td>\n",
       "      <td>2</td>\n",
       "      <td>2</td>\n",
       "      <td>9fa0694b3b</td>\n",
       "      <td>1</td>\n",
       "      <td>2018-03-31 21:00:00</td>\n",
       "      <td>2018-04-01 07:00:00</td>\n",
       "      <td>2018-04-01 10:00:00</td>\n",
       "    </tr>\n",
       "    <tr>\n",
       "      <th>326859</th>\n",
       "      <td>c9d77a7ed0</td>\n",
       "      <td>18f92434cd</td>\n",
       "      <td>7f53769d3f</td>\n",
       "      <td>2018-03-31</td>\n",
       "      <td>2018-03-31 08:55:57.0</td>\n",
       "      <td>1</td>\n",
       "      <td>1</td>\n",
       "      <td>3</td>\n",
       "      <td>118.0</td>\n",
       "      <td>55.0</td>\n",
       "      <td>...</td>\n",
       "      <td>0.0</td>\n",
       "      <td>0.0</td>\n",
       "      <td>0</td>\n",
       "      <td>59</td>\n",
       "      <td>2</td>\n",
       "      <td>c9d77a7ed0</td>\n",
       "      <td>1</td>\n",
       "      <td>2018-03-31 11:00:00</td>\n",
       "      <td>2018-04-02 07:00:00</td>\n",
       "      <td>2018-04-02 15:00:00</td>\n",
       "    </tr>\n",
       "    <tr>\n",
       "      <th>326860</th>\n",
       "      <td>b9ad79338f</td>\n",
       "      <td>b5caf8a580</td>\n",
       "      <td>8dc4a01dec</td>\n",
       "      <td>2018-03-31</td>\n",
       "      <td>2018-03-31 13:31:01.0</td>\n",
       "      <td>1</td>\n",
       "      <td>1</td>\n",
       "      <td>2</td>\n",
       "      <td>78.0</td>\n",
       "      <td>78.0</td>\n",
       "      <td>...</td>\n",
       "      <td>0.0</td>\n",
       "      <td>0.0</td>\n",
       "      <td>0</td>\n",
       "      <td>2</td>\n",
       "      <td>2</td>\n",
       "      <td>b9ad79338f</td>\n",
       "      <td>1</td>\n",
       "      <td>2018-03-31 14:00:00</td>\n",
       "      <td>2018-04-01 07:00:00</td>\n",
       "      <td>2018-04-01 11:00:00</td>\n",
       "    </tr>\n",
       "    <tr>\n",
       "      <th>326861</th>\n",
       "      <td>02d31f05c9</td>\n",
       "      <td>f260895cbe</td>\n",
       "      <td>10d369ef96</td>\n",
       "      <td>2018-03-31</td>\n",
       "      <td>2018-03-31 18:21:16.0</td>\n",
       "      <td>1</td>\n",
       "      <td>2</td>\n",
       "      <td>4</td>\n",
       "      <td>68.0</td>\n",
       "      <td>49.0</td>\n",
       "      <td>...</td>\n",
       "      <td>0.0</td>\n",
       "      <td>0.0</td>\n",
       "      <td>0</td>\n",
       "      <td>4</td>\n",
       "      <td>28</td>\n",
       "      <td>1722a36a69</td>\n",
       "      <td>0</td>\n",
       "      <td>2018-04-01 14:00:00</td>\n",
       "      <td>2018-04-05 08:00:00</td>\n",
       "      <td>2018-04-05 13:00:00</td>\n",
       "    </tr>\n",
       "  </tbody>\n",
       "</table>\n",
       "<p>326862 rows × 22 columns</p>\n",
       "</div>"
      ],
      "text/plain": [
       "          order_ID     user_ID      sku_ID  order_date             order_time  \\\n",
       "0       7444318d01  33a9e56257  067b673f2b  2018-03-01  2018-03-01 11:10:40.0   \n",
       "1       f973b01694  4ea3cf408f  623d0a582a  2018-03-01  2018-03-01 09:13:26.0   \n",
       "2       8c1cec8d4b  b87cb736cb  fc5289b139  2018-03-01  2018-03-01 21:29:50.0   \n",
       "3       d43a33c38a  4829223b6f  623d0a582a  2018-03-01  2018-03-01 19:13:37.0   \n",
       "4       e0f5386d87  0b07cae293  589c2b865b  2018-03-01  2018-03-01 21:09:15.0   \n",
       "...            ...         ...         ...         ...                    ...   \n",
       "326857  5fd298d448  165ee3e319  f7280c119d  2018-03-31  2018-03-31 12:42:35.0   \n",
       "326858  9fa0694b3b  39933e9bc6  767ac490ed  2018-03-31  2018-03-31 19:51:43.0   \n",
       "326859  c9d77a7ed0  18f92434cd  7f53769d3f  2018-03-31  2018-03-31 08:55:57.0   \n",
       "326860  b9ad79338f  b5caf8a580  8dc4a01dec  2018-03-31  2018-03-31 13:31:01.0   \n",
       "326861  02d31f05c9  f260895cbe  10d369ef96  2018-03-31  2018-03-31 18:21:16.0   \n",
       "\n",
       "        quantity  type_x promise  original_unit_price  final_unit_price  ...  \\\n",
       "0              1       1       2                 99.9              53.9  ...   \n",
       "1              1       1       2                 78.0              58.5  ...   \n",
       "2              1       1       2                 61.0              35.0  ...   \n",
       "3              1       1       1                 78.0              53.0  ...   \n",
       "4              1       1       1                 79.9              38.9  ...   \n",
       "...          ...     ...     ...                  ...               ...  ...   \n",
       "326857         1       2       3                269.0             189.0  ...   \n",
       "326858         1       1       2                  0.0              -1.0  ...   \n",
       "326859         1       1       3                118.0              55.0  ...   \n",
       "326860         1       1       2                 78.0              78.0  ...   \n",
       "326861         1       2       4                 68.0              49.0  ...   \n",
       "\n",
       "        bundle_discount_per_unit  coupon_discount_per_unit  gift_item  dc_ori  \\\n",
       "0                            0.0                       0.0          0      28   \n",
       "1                            0.0                       0.0          0      28   \n",
       "2                            0.0                       0.0          0       4   \n",
       "3                            0.0                       6.0          0       3   \n",
       "4                            0.0                       0.0          0       3   \n",
       "...                          ...                       ...        ...     ...   \n",
       "326857                       0.0                       0.0          0       2   \n",
       "326858                       0.0                       0.0          1       2   \n",
       "326859                       0.0                       0.0          0      59   \n",
       "326860                       0.0                       0.0          0       2   \n",
       "326861                       0.0                       0.0          0       4   \n",
       "\n",
       "        dc_des  package_ID  type_y        ship_out_time     arr_station_time  \\\n",
       "0           28  7444318d01       1  2018-03-01 13:00:00  2018-03-02 08:00:00   \n",
       "1           28  f973b01694       1  2018-03-01 14:00:00  2018-03-02 09:00:00   \n",
       "2           28  8c1cec8d4b       1  2018-03-02 09:00:00  2018-03-03 08:00:00   \n",
       "3           16  d43a33c38a       1  2018-03-01 20:00:00  2018-03-02 07:00:00   \n",
       "4           16  e0f5386d87       1  2018-03-01 22:00:00  2018-03-02 09:00:00   \n",
       "...        ...         ...     ...                  ...                  ...   \n",
       "326857       2  1b81523e8d       0  2018-03-31 13:00:00  2018-04-02 07:00:00   \n",
       "326858       2  9fa0694b3b       1  2018-03-31 21:00:00  2018-04-01 07:00:00   \n",
       "326859       2  c9d77a7ed0       1  2018-03-31 11:00:00  2018-04-02 07:00:00   \n",
       "326860       2  b9ad79338f       1  2018-03-31 14:00:00  2018-04-01 07:00:00   \n",
       "326861      28  1722a36a69       0  2018-04-01 14:00:00  2018-04-05 08:00:00   \n",
       "\n",
       "                   arr_time  \n",
       "0       2018-03-02 14:00:00  \n",
       "1       2018-03-02 13:00:00  \n",
       "2       2018-03-04 11:00:00  \n",
       "3       2018-03-02 11:00:00  \n",
       "4       2018-03-02 12:00:00  \n",
       "...                     ...  \n",
       "326857  2018-04-02 13:00:00  \n",
       "326858  2018-04-01 10:00:00  \n",
       "326859  2018-04-02 15:00:00  \n",
       "326860  2018-04-01 11:00:00  \n",
       "326861  2018-04-05 13:00:00  \n",
       "\n",
       "[326862 rows x 22 columns]"
      ]
     },
     "execution_count": 12,
     "metadata": {},
     "output_type": "execute_result"
    },
    {
     "data": {
      "text/html": [
       "<div>\n",
       "<style scoped>\n",
       "    .dataframe tbody tr th:only-of-type {\n",
       "        vertical-align: middle;\n",
       "    }\n",
       "\n",
       "    .dataframe tbody tr th {\n",
       "        vertical-align: top;\n",
       "    }\n",
       "\n",
       "    .dataframe thead th {\n",
       "        text-align: right;\n",
       "    }\n",
       "</style>\n",
       "<table border=\"1\" class=\"dataframe\">\n",
       "  <thead>\n",
       "    <tr style=\"text-align: right;\">\n",
       "      <th></th>\n",
       "      <th>order_ID</th>\n",
       "      <th>user_ID</th>\n",
       "      <th>sku_ID</th>\n",
       "      <th>order_date</th>\n",
       "      <th>order_time</th>\n",
       "      <th>quantity</th>\n",
       "      <th>type_x</th>\n",
       "      <th>promise</th>\n",
       "      <th>original_unit_price</th>\n",
       "      <th>final_unit_price</th>\n",
       "      <th>...</th>\n",
       "      <th>bundle_discount_per_unit</th>\n",
       "      <th>coupon_discount_per_unit</th>\n",
       "      <th>gift_item</th>\n",
       "      <th>dc_ori</th>\n",
       "      <th>dc_des</th>\n",
       "      <th>package_ID</th>\n",
       "      <th>type_y</th>\n",
       "      <th>ship_out_time</th>\n",
       "      <th>arr_station_time</th>\n",
       "      <th>arr_time</th>\n",
       "    </tr>\n",
       "  </thead>\n",
       "  <tbody>\n",
       "    <tr>\n",
       "      <th>0</th>\n",
       "      <td>7444318d01</td>\n",
       "      <td>33a9e56257</td>\n",
       "      <td>067b673f2b</td>\n",
       "      <td>2018-03-01</td>\n",
       "      <td>2018-03-01 11:10:40.0</td>\n",
       "      <td>1</td>\n",
       "      <td>1</td>\n",
       "      <td>2</td>\n",
       "      <td>99.9</td>\n",
       "      <td>53.9</td>\n",
       "      <td>...</td>\n",
       "      <td>0.0</td>\n",
       "      <td>0.0</td>\n",
       "      <td>0</td>\n",
       "      <td>28</td>\n",
       "      <td>28</td>\n",
       "      <td>7444318d01</td>\n",
       "      <td>1</td>\n",
       "      <td>2018-03-01 13:00:00</td>\n",
       "      <td>2018-03-02 08:00:00</td>\n",
       "      <td>2018-03-02 14:00:00</td>\n",
       "    </tr>\n",
       "    <tr>\n",
       "      <th>1</th>\n",
       "      <td>f973b01694</td>\n",
       "      <td>4ea3cf408f</td>\n",
       "      <td>623d0a582a</td>\n",
       "      <td>2018-03-01</td>\n",
       "      <td>2018-03-01 09:13:26.0</td>\n",
       "      <td>1</td>\n",
       "      <td>1</td>\n",
       "      <td>2</td>\n",
       "      <td>78.0</td>\n",
       "      <td>58.5</td>\n",
       "      <td>...</td>\n",
       "      <td>0.0</td>\n",
       "      <td>0.0</td>\n",
       "      <td>0</td>\n",
       "      <td>28</td>\n",
       "      <td>28</td>\n",
       "      <td>f973b01694</td>\n",
       "      <td>1</td>\n",
       "      <td>2018-03-01 14:00:00</td>\n",
       "      <td>2018-03-02 09:00:00</td>\n",
       "      <td>2018-03-02 13:00:00</td>\n",
       "    </tr>\n",
       "    <tr>\n",
       "      <th>2</th>\n",
       "      <td>8c1cec8d4b</td>\n",
       "      <td>b87cb736cb</td>\n",
       "      <td>fc5289b139</td>\n",
       "      <td>2018-03-01</td>\n",
       "      <td>2018-03-01 21:29:50.0</td>\n",
       "      <td>1</td>\n",
       "      <td>1</td>\n",
       "      <td>2</td>\n",
       "      <td>61.0</td>\n",
       "      <td>35.0</td>\n",
       "      <td>...</td>\n",
       "      <td>0.0</td>\n",
       "      <td>0.0</td>\n",
       "      <td>0</td>\n",
       "      <td>4</td>\n",
       "      <td>28</td>\n",
       "      <td>8c1cec8d4b</td>\n",
       "      <td>1</td>\n",
       "      <td>2018-03-02 09:00:00</td>\n",
       "      <td>2018-03-03 08:00:00</td>\n",
       "      <td>2018-03-04 11:00:00</td>\n",
       "    </tr>\n",
       "    <tr>\n",
       "      <th>3</th>\n",
       "      <td>d43a33c38a</td>\n",
       "      <td>4829223b6f</td>\n",
       "      <td>623d0a582a</td>\n",
       "      <td>2018-03-01</td>\n",
       "      <td>2018-03-01 19:13:37.0</td>\n",
       "      <td>1</td>\n",
       "      <td>1</td>\n",
       "      <td>1</td>\n",
       "      <td>78.0</td>\n",
       "      <td>53.0</td>\n",
       "      <td>...</td>\n",
       "      <td>0.0</td>\n",
       "      <td>6.0</td>\n",
       "      <td>0</td>\n",
       "      <td>3</td>\n",
       "      <td>16</td>\n",
       "      <td>d43a33c38a</td>\n",
       "      <td>1</td>\n",
       "      <td>2018-03-01 20:00:00</td>\n",
       "      <td>2018-03-02 07:00:00</td>\n",
       "      <td>2018-03-02 11:00:00</td>\n",
       "    </tr>\n",
       "    <tr>\n",
       "      <th>4</th>\n",
       "      <td>e0f5386d87</td>\n",
       "      <td>0b07cae293</td>\n",
       "      <td>589c2b865b</td>\n",
       "      <td>2018-03-01</td>\n",
       "      <td>2018-03-01 21:09:15.0</td>\n",
       "      <td>1</td>\n",
       "      <td>1</td>\n",
       "      <td>1</td>\n",
       "      <td>79.9</td>\n",
       "      <td>38.9</td>\n",
       "      <td>...</td>\n",
       "      <td>0.0</td>\n",
       "      <td>0.0</td>\n",
       "      <td>0</td>\n",
       "      <td>3</td>\n",
       "      <td>16</td>\n",
       "      <td>e0f5386d87</td>\n",
       "      <td>1</td>\n",
       "      <td>2018-03-01 22:00:00</td>\n",
       "      <td>2018-03-02 09:00:00</td>\n",
       "      <td>2018-03-02 12:00:00</td>\n",
       "    </tr>\n",
       "    <tr>\n",
       "      <th>...</th>\n",
       "      <td>...</td>\n",
       "      <td>...</td>\n",
       "      <td>...</td>\n",
       "      <td>...</td>\n",
       "      <td>...</td>\n",
       "      <td>...</td>\n",
       "      <td>...</td>\n",
       "      <td>...</td>\n",
       "      <td>...</td>\n",
       "      <td>...</td>\n",
       "      <td>...</td>\n",
       "      <td>...</td>\n",
       "      <td>...</td>\n",
       "      <td>...</td>\n",
       "      <td>...</td>\n",
       "      <td>...</td>\n",
       "      <td>...</td>\n",
       "      <td>...</td>\n",
       "      <td>...</td>\n",
       "      <td>...</td>\n",
       "      <td>...</td>\n",
       "    </tr>\n",
       "    <tr>\n",
       "      <th>326857</th>\n",
       "      <td>5fd298d448</td>\n",
       "      <td>165ee3e319</td>\n",
       "      <td>f7280c119d</td>\n",
       "      <td>2018-03-31</td>\n",
       "      <td>2018-03-31 12:42:35.0</td>\n",
       "      <td>1</td>\n",
       "      <td>0</td>\n",
       "      <td>3</td>\n",
       "      <td>269.0</td>\n",
       "      <td>189.0</td>\n",
       "      <td>...</td>\n",
       "      <td>0.0</td>\n",
       "      <td>0.0</td>\n",
       "      <td>0</td>\n",
       "      <td>2</td>\n",
       "      <td>2</td>\n",
       "      <td>1b81523e8d</td>\n",
       "      <td>0</td>\n",
       "      <td>2018-03-31 13:00:00</td>\n",
       "      <td>2018-04-02 07:00:00</td>\n",
       "      <td>2018-04-02 13:00:00</td>\n",
       "    </tr>\n",
       "    <tr>\n",
       "      <th>326858</th>\n",
       "      <td>9fa0694b3b</td>\n",
       "      <td>39933e9bc6</td>\n",
       "      <td>767ac490ed</td>\n",
       "      <td>2018-03-31</td>\n",
       "      <td>2018-03-31 19:51:43.0</td>\n",
       "      <td>1</td>\n",
       "      <td>1</td>\n",
       "      <td>2</td>\n",
       "      <td>0.0</td>\n",
       "      <td>-1.0</td>\n",
       "      <td>...</td>\n",
       "      <td>0.0</td>\n",
       "      <td>0.0</td>\n",
       "      <td>1</td>\n",
       "      <td>2</td>\n",
       "      <td>2</td>\n",
       "      <td>9fa0694b3b</td>\n",
       "      <td>1</td>\n",
       "      <td>2018-03-31 21:00:00</td>\n",
       "      <td>2018-04-01 07:00:00</td>\n",
       "      <td>2018-04-01 10:00:00</td>\n",
       "    </tr>\n",
       "    <tr>\n",
       "      <th>326859</th>\n",
       "      <td>c9d77a7ed0</td>\n",
       "      <td>18f92434cd</td>\n",
       "      <td>7f53769d3f</td>\n",
       "      <td>2018-03-31</td>\n",
       "      <td>2018-03-31 08:55:57.0</td>\n",
       "      <td>1</td>\n",
       "      <td>1</td>\n",
       "      <td>3</td>\n",
       "      <td>118.0</td>\n",
       "      <td>55.0</td>\n",
       "      <td>...</td>\n",
       "      <td>0.0</td>\n",
       "      <td>0.0</td>\n",
       "      <td>0</td>\n",
       "      <td>59</td>\n",
       "      <td>2</td>\n",
       "      <td>c9d77a7ed0</td>\n",
       "      <td>1</td>\n",
       "      <td>2018-03-31 11:00:00</td>\n",
       "      <td>2018-04-02 07:00:00</td>\n",
       "      <td>2018-04-02 15:00:00</td>\n",
       "    </tr>\n",
       "    <tr>\n",
       "      <th>326860</th>\n",
       "      <td>b9ad79338f</td>\n",
       "      <td>b5caf8a580</td>\n",
       "      <td>8dc4a01dec</td>\n",
       "      <td>2018-03-31</td>\n",
       "      <td>2018-03-31 13:31:01.0</td>\n",
       "      <td>1</td>\n",
       "      <td>1</td>\n",
       "      <td>2</td>\n",
       "      <td>78.0</td>\n",
       "      <td>78.0</td>\n",
       "      <td>...</td>\n",
       "      <td>0.0</td>\n",
       "      <td>0.0</td>\n",
       "      <td>0</td>\n",
       "      <td>2</td>\n",
       "      <td>2</td>\n",
       "      <td>b9ad79338f</td>\n",
       "      <td>1</td>\n",
       "      <td>2018-03-31 14:00:00</td>\n",
       "      <td>2018-04-01 07:00:00</td>\n",
       "      <td>2018-04-01 11:00:00</td>\n",
       "    </tr>\n",
       "    <tr>\n",
       "      <th>326861</th>\n",
       "      <td>02d31f05c9</td>\n",
       "      <td>f260895cbe</td>\n",
       "      <td>10d369ef96</td>\n",
       "      <td>2018-03-31</td>\n",
       "      <td>2018-03-31 18:21:16.0</td>\n",
       "      <td>1</td>\n",
       "      <td>0</td>\n",
       "      <td>4</td>\n",
       "      <td>68.0</td>\n",
       "      <td>49.0</td>\n",
       "      <td>...</td>\n",
       "      <td>0.0</td>\n",
       "      <td>0.0</td>\n",
       "      <td>0</td>\n",
       "      <td>4</td>\n",
       "      <td>28</td>\n",
       "      <td>1722a36a69</td>\n",
       "      <td>0</td>\n",
       "      <td>2018-04-01 14:00:00</td>\n",
       "      <td>2018-04-05 08:00:00</td>\n",
       "      <td>2018-04-05 13:00:00</td>\n",
       "    </tr>\n",
       "  </tbody>\n",
       "</table>\n",
       "<p>326862 rows × 22 columns</p>\n",
       "</div>"
      ],
      "text/plain": [
       "          order_ID     user_ID      sku_ID  order_date             order_time  \\\n",
       "0       7444318d01  33a9e56257  067b673f2b  2018-03-01  2018-03-01 11:10:40.0   \n",
       "1       f973b01694  4ea3cf408f  623d0a582a  2018-03-01  2018-03-01 09:13:26.0   \n",
       "2       8c1cec8d4b  b87cb736cb  fc5289b139  2018-03-01  2018-03-01 21:29:50.0   \n",
       "3       d43a33c38a  4829223b6f  623d0a582a  2018-03-01  2018-03-01 19:13:37.0   \n",
       "4       e0f5386d87  0b07cae293  589c2b865b  2018-03-01  2018-03-01 21:09:15.0   \n",
       "...            ...         ...         ...         ...                    ...   \n",
       "326857  5fd298d448  165ee3e319  f7280c119d  2018-03-31  2018-03-31 12:42:35.0   \n",
       "326858  9fa0694b3b  39933e9bc6  767ac490ed  2018-03-31  2018-03-31 19:51:43.0   \n",
       "326859  c9d77a7ed0  18f92434cd  7f53769d3f  2018-03-31  2018-03-31 08:55:57.0   \n",
       "326860  b9ad79338f  b5caf8a580  8dc4a01dec  2018-03-31  2018-03-31 13:31:01.0   \n",
       "326861  02d31f05c9  f260895cbe  10d369ef96  2018-03-31  2018-03-31 18:21:16.0   \n",
       "\n",
       "        quantity  type_x promise  original_unit_price  final_unit_price  ...  \\\n",
       "0              1       1       2                 99.9              53.9  ...   \n",
       "1              1       1       2                 78.0              58.5  ...   \n",
       "2              1       1       2                 61.0              35.0  ...   \n",
       "3              1       1       1                 78.0              53.0  ...   \n",
       "4              1       1       1                 79.9              38.9  ...   \n",
       "...          ...     ...     ...                  ...               ...  ...   \n",
       "326857         1       0       3                269.0             189.0  ...   \n",
       "326858         1       1       2                  0.0              -1.0  ...   \n",
       "326859         1       1       3                118.0              55.0  ...   \n",
       "326860         1       1       2                 78.0              78.0  ...   \n",
       "326861         1       0       4                 68.0              49.0  ...   \n",
       "\n",
       "        bundle_discount_per_unit  coupon_discount_per_unit  gift_item  dc_ori  \\\n",
       "0                            0.0                       0.0          0      28   \n",
       "1                            0.0                       0.0          0      28   \n",
       "2                            0.0                       0.0          0       4   \n",
       "3                            0.0                       6.0          0       3   \n",
       "4                            0.0                       0.0          0       3   \n",
       "...                          ...                       ...        ...     ...   \n",
       "326857                       0.0                       0.0          0       2   \n",
       "326858                       0.0                       0.0          1       2   \n",
       "326859                       0.0                       0.0          0      59   \n",
       "326860                       0.0                       0.0          0       2   \n",
       "326861                       0.0                       0.0          0       4   \n",
       "\n",
       "        dc_des  package_ID  type_y        ship_out_time     arr_station_time  \\\n",
       "0           28  7444318d01       1  2018-03-01 13:00:00  2018-03-02 08:00:00   \n",
       "1           28  f973b01694       1  2018-03-01 14:00:00  2018-03-02 09:00:00   \n",
       "2           28  8c1cec8d4b       1  2018-03-02 09:00:00  2018-03-03 08:00:00   \n",
       "3           16  d43a33c38a       1  2018-03-01 20:00:00  2018-03-02 07:00:00   \n",
       "4           16  e0f5386d87       1  2018-03-01 22:00:00  2018-03-02 09:00:00   \n",
       "...        ...         ...     ...                  ...                  ...   \n",
       "326857       2  1b81523e8d       0  2018-03-31 13:00:00  2018-04-02 07:00:00   \n",
       "326858       2  9fa0694b3b       1  2018-03-31 21:00:00  2018-04-01 07:00:00   \n",
       "326859       2  c9d77a7ed0       1  2018-03-31 11:00:00  2018-04-02 07:00:00   \n",
       "326860       2  b9ad79338f       1  2018-03-31 14:00:00  2018-04-01 07:00:00   \n",
       "326861      28  1722a36a69       0  2018-04-01 14:00:00  2018-04-05 08:00:00   \n",
       "\n",
       "                   arr_time  \n",
       "0       2018-03-02 14:00:00  \n",
       "1       2018-03-02 13:00:00  \n",
       "2       2018-03-04 11:00:00  \n",
       "3       2018-03-02 11:00:00  \n",
       "4       2018-03-02 12:00:00  \n",
       "...                     ...  \n",
       "326857  2018-04-02 13:00:00  \n",
       "326858  2018-04-01 10:00:00  \n",
       "326859  2018-04-02 15:00:00  \n",
       "326860  2018-04-01 11:00:00  \n",
       "326861  2018-04-05 13:00:00  \n",
       "\n",
       "[326862 rows x 22 columns]"
      ]
     },
     "execution_count": 12,
     "metadata": {},
     "output_type": "execute_result"
    }
   ],
   "source": [
    "merged_data_inner\n",
    "merged_data_inner['type_x'] = merged_data_inner['type_y']\n",
    "merged_data_inner"
   ]
  },
  {
   "cell_type": "markdown",
   "id": "71e74326",
   "metadata": {},
   "source": [
    "Then compare the values of the two variables are the same."
   ]
  },
  {
   "cell_type": "code",
   "execution_count": 13,
   "id": "4a5a220e",
   "metadata": {},
   "outputs": [
    {
     "name": "stdout",
     "output_type": "stream",
     "text": [
      "The values of 'type_x' and 'type_y' are the same.\n",
      "True\n"
     ]
    }
   ],
   "source": [
    "# Assuming your DataFrame is named 'merged_table'\n",
    "\n",
    "# Check if values in 'type_x' are the same as values in 'type_y'\n",
    "are_types_equal = (merged_data_inner['type_x'] == merged_data_inner['type_y']).all()\n",
    "\n",
    "# Print the result\n",
    "if are_types_equal:\n",
    "    print(\"The values of 'type_x' and 'type_y' are the same.\")\n",
    "    print(are_types_equal)\n",
    "else:\n",
    "    print(\"The values of 'type_x' and 'type_y' are not the same.\")\n",
    "    print(are_types_equal)\n",
    "\n"
   ]
  },
  {
   "cell_type": "markdown",
   "id": "caa13f03",
   "metadata": {},
   "source": [
    "If they are, please drop one of them."
   ]
  },
  {
   "cell_type": "code",
   "execution_count": 14,
   "id": "ddb5d3d9",
   "metadata": {},
   "outputs": [],
   "source": [
    "merged_data_inner.drop(columns=['type_y'], inplace=True)"
   ]
  },
  {
   "cell_type": "markdown",
   "id": "64cefd13",
   "metadata": {},
   "source": [
    "12. We need to remove the orders that <br>\n",
    "1) has a single item; <br>\n",
    "2) the item is a gift item;<br>\n",
    "\n",
    "The reason is that those orders might have come from other product categories and only use products from current category as a gift. We do not have information about those orders."
   ]
  },
  {
   "cell_type": "markdown",
   "id": "f9338863",
   "metadata": {},
   "source": [
    "We first find orders with order_ID only appears once in the data, which indicates this order contains a single item.<br>\n",
    "Hint: you may use .duplicated() method to mark that. Think about which value of the argument 'keep' you want to choose. Consider saving the outcome as a variable."
   ]
  },
  {
   "cell_type": "code",
   "execution_count": 15,
   "id": "4dc1e8c7",
   "metadata": {},
   "outputs": [
    {
     "data": {
      "text/plain": [
       "False    265209\n",
       "True      61653\n",
       "dtype: int64"
      ]
     },
     "execution_count": 15,
     "metadata": {},
     "output_type": "execute_result"
    }
   ],
   "source": [
    "single_item_orders = merged_data_inner.duplicated(subset='order_ID', keep=False)\n",
    "single_item_orders.value_counts()"
   ]
  },
  {
   "cell_type": "markdown",
   "id": "e4ca8fbb",
   "metadata": {},
   "source": [
    "Then we filter the data to remove those orders of a single gift item. Save the changes."
   ]
  },
  {
   "cell_type": "code",
   "execution_count": 16,
   "id": "e59c8837",
   "metadata": {},
   "outputs": [],
   "source": [
    "#filtered_orders = merged_data_inner[~(single_item_orders & (merged_data_inner['gift_item'] == 1))]\n",
    "#merged_data_inner = filtered_orders.copy()\n",
    "#merged_data_inner[\"single_item_order\"].value_counts()"
   ]
  },
  {
   "cell_type": "markdown",
   "id": "a6834bef",
   "metadata": {},
   "source": [
    "13. Next, we remove orders with multiple packages. Hint: You may groupby order_ID, find the number of unique package_ID ('nunique') and then use transform() to broadcast the value to all record. Save the results as a new variable. Use the variable value to filter."
   ]
  },
  {
   "cell_type": "code",
   "execution_count": 17,
   "id": "d04379c4",
   "metadata": {},
   "outputs": [
    {
     "name": "stdout",
     "output_type": "stream",
     "text": [
      "          order_ID     user_ID      sku_ID  order_date             order_time  \\\n",
      "0       7444318d01  33a9e56257  067b673f2b  2018-03-01  2018-03-01 11:10:40.0   \n",
      "1       f973b01694  4ea3cf408f  623d0a582a  2018-03-01  2018-03-01 09:13:26.0   \n",
      "2       8c1cec8d4b  b87cb736cb  fc5289b139  2018-03-01  2018-03-01 21:29:50.0   \n",
      "3       d43a33c38a  4829223b6f  623d0a582a  2018-03-01  2018-03-01 19:13:37.0   \n",
      "4       e0f5386d87  0b07cae293  589c2b865b  2018-03-01  2018-03-01 21:09:15.0   \n",
      "...            ...         ...         ...         ...                    ...   \n",
      "326857  5fd298d448  165ee3e319  f7280c119d  2018-03-31  2018-03-31 12:42:35.0   \n",
      "326858  9fa0694b3b  39933e9bc6  767ac490ed  2018-03-31  2018-03-31 19:51:43.0   \n",
      "326859  c9d77a7ed0  18f92434cd  7f53769d3f  2018-03-31  2018-03-31 08:55:57.0   \n",
      "326860  b9ad79338f  b5caf8a580  8dc4a01dec  2018-03-31  2018-03-31 13:31:01.0   \n",
      "326861  02d31f05c9  f260895cbe  10d369ef96  2018-03-31  2018-03-31 18:21:16.0   \n",
      "\n",
      "        quantity  type_x promise  original_unit_price  final_unit_price  ...  \\\n",
      "0              1       1       2                 99.9              53.9  ...   \n",
      "1              1       1       2                 78.0              58.5  ...   \n",
      "2              1       1       2                 61.0              35.0  ...   \n",
      "3              1       1       1                 78.0              53.0  ...   \n",
      "4              1       1       1                 79.9              38.9  ...   \n",
      "...          ...     ...     ...                  ...               ...  ...   \n",
      "326857         1       0       3                269.0             189.0  ...   \n",
      "326858         1       1       2                  0.0              -1.0  ...   \n",
      "326859         1       1       3                118.0              55.0  ...   \n",
      "326860         1       1       2                 78.0              78.0  ...   \n",
      "326861         1       0       4                 68.0              49.0  ...   \n",
      "\n",
      "        quantity_discount_per_unit  bundle_discount_per_unit  \\\n",
      "0                             41.0                       0.0   \n",
      "1                              0.0                       0.0   \n",
      "2                             26.0                       0.0   \n",
      "3                              0.0                       0.0   \n",
      "4                             37.0                       0.0   \n",
      "...                            ...                       ...   \n",
      "326857                         0.0                       0.0   \n",
      "326858                         1.0                       0.0   \n",
      "326859                         0.0                       0.0   \n",
      "326860                         0.0                       0.0   \n",
      "326861                         0.0                       0.0   \n",
      "\n",
      "        coupon_discount_per_unit  gift_item  dc_ori  dc_des  package_ID  \\\n",
      "0                            0.0          0      28      28  7444318d01   \n",
      "1                            0.0          0      28      28  f973b01694   \n",
      "2                            0.0          0       4      28  8c1cec8d4b   \n",
      "3                            6.0          0       3      16  d43a33c38a   \n",
      "4                            0.0          0       3      16  e0f5386d87   \n",
      "...                          ...        ...     ...     ...         ...   \n",
      "326857                       0.0          0       2       2  1b81523e8d   \n",
      "326858                       0.0          1       2       2  9fa0694b3b   \n",
      "326859                       0.0          0      59       2  c9d77a7ed0   \n",
      "326860                       0.0          0       2       2  b9ad79338f   \n",
      "326861                       0.0          0       4      28  1722a36a69   \n",
      "\n",
      "              ship_out_time     arr_station_time             arr_time  \n",
      "0       2018-03-01 13:00:00  2018-03-02 08:00:00  2018-03-02 14:00:00  \n",
      "1       2018-03-01 14:00:00  2018-03-02 09:00:00  2018-03-02 13:00:00  \n",
      "2       2018-03-02 09:00:00  2018-03-03 08:00:00  2018-03-04 11:00:00  \n",
      "3       2018-03-01 20:00:00  2018-03-02 07:00:00  2018-03-02 11:00:00  \n",
      "4       2018-03-01 22:00:00  2018-03-02 09:00:00  2018-03-02 12:00:00  \n",
      "...                     ...                  ...                  ...  \n",
      "326857  2018-03-31 13:00:00  2018-04-02 07:00:00  2018-04-02 13:00:00  \n",
      "326858  2018-03-31 21:00:00  2018-04-01 07:00:00  2018-04-01 10:00:00  \n",
      "326859  2018-03-31 11:00:00  2018-04-02 07:00:00  2018-04-02 15:00:00  \n",
      "326860  2018-03-31 14:00:00  2018-04-01 07:00:00  2018-04-01 11:00:00  \n",
      "326861  2018-04-01 14:00:00  2018-04-05 08:00:00  2018-04-05 13:00:00  \n",
      "\n",
      "[326809 rows x 21 columns]\n"
     ]
    }
   ],
   "source": [
    "package_counts = merged_data_inner.groupby('order_ID')['package_ID'].nunique()\n",
    "\n",
    "# Use transform() to broadcast the package counts to all records in the original DataFrame\n",
    "merged_data_inner['num_packages'] = merged_data_inner['order_ID'].transform(lambda x: package_counts[x])\n",
    "\n",
    "# Filter out orders with multiple packages\n",
    "merged_data_inner_filtered = merged_data_inner[merged_data_inner['num_packages'] == 1]\n",
    "\n",
    "# Drop the 'num_packages' column if you no longer need it\n",
    "merged_data_inner_filtered = merged_data_inner_filtered.drop(columns=['num_packages'])\n",
    "\n",
    "# Display or use the filtered DataFrame (df_filtered) as needed\n",
    "print(merged_data_inner_filtered)"
   ]
  },
  {
   "cell_type": "markdown",
   "id": "c334d96d",
   "metadata": {},
   "source": [
    "14. Now we process time-related variables: order_date, order_time, ship_out_time, arr_station_time, and arr_time. <br>\n",
    "First change all of them to Timestamp data type. <br>\n",
    "Get the day of the month from the order_date and save it to a new variable 'order_day'. <br>\n",
    "Get the hour of the order_time and save it to a new variable 'order_hour'.<br>\n",
    "Caculate the delivery time by minus arr_time with order_time. <br>"
   ]
  },
  {
   "cell_type": "code",
   "execution_count": 18,
   "id": "4b24e87e",
   "metadata": {},
   "outputs": [],
   "source": [
    "merged_data_inner['order_date'] = pd.to_datetime(merged_data_inner['order_date'])\n",
    "merged_data_inner['order_time'] = pd.to_datetime(merged_data_inner['order_time'])\n",
    "merged_data_inner['ship_out_time'] = pd.to_datetime(merged_data_inner['ship_out_time'])\n",
    "merged_data_inner['arr_station_time'] = pd.to_datetime(merged_data_inner['arr_station_time'])\n",
    "merged_data_inner['arr_time'] = pd.to_datetime(merged_data_inner['arr_time'])"
   ]
  },
  {
   "cell_type": "code",
   "execution_count": 19,
   "id": "97847e4b",
   "metadata": {},
   "outputs": [],
   "source": [
    "merged_data_inner['order_day'] = merged_data_inner['order_date'].dt.day"
   ]
  },
  {
   "cell_type": "code",
   "execution_count": 20,
   "id": "dc0c3ebd",
   "metadata": {},
   "outputs": [],
   "source": [
    "merged_data_inner['order_hour'] = merged_data_inner['order_time'].dt.hour"
   ]
  },
  {
   "cell_type": "code",
   "execution_count": 21,
   "id": "9d74b56f",
   "metadata": {},
   "outputs": [
    {
     "data": {
      "text/html": [
       "<div>\n",
       "<style scoped>\n",
       "    .dataframe tbody tr th:only-of-type {\n",
       "        vertical-align: middle;\n",
       "    }\n",
       "\n",
       "    .dataframe tbody tr th {\n",
       "        vertical-align: top;\n",
       "    }\n",
       "\n",
       "    .dataframe thead th {\n",
       "        text-align: right;\n",
       "    }\n",
       "</style>\n",
       "<table border=\"1\" class=\"dataframe\">\n",
       "  <thead>\n",
       "    <tr style=\"text-align: right;\">\n",
       "      <th></th>\n",
       "      <th>order_ID</th>\n",
       "      <th>user_ID</th>\n",
       "      <th>sku_ID</th>\n",
       "      <th>order_date</th>\n",
       "      <th>order_time</th>\n",
       "      <th>quantity</th>\n",
       "      <th>type_x</th>\n",
       "      <th>promise</th>\n",
       "      <th>original_unit_price</th>\n",
       "      <th>final_unit_price</th>\n",
       "      <th>...</th>\n",
       "      <th>dc_ori</th>\n",
       "      <th>dc_des</th>\n",
       "      <th>package_ID</th>\n",
       "      <th>ship_out_time</th>\n",
       "      <th>arr_station_time</th>\n",
       "      <th>arr_time</th>\n",
       "      <th>num_packages</th>\n",
       "      <th>order_day</th>\n",
       "      <th>order_hour</th>\n",
       "      <th>delivery_time</th>\n",
       "    </tr>\n",
       "  </thead>\n",
       "  <tbody>\n",
       "    <tr>\n",
       "      <th>0</th>\n",
       "      <td>7444318d01</td>\n",
       "      <td>33a9e56257</td>\n",
       "      <td>067b673f2b</td>\n",
       "      <td>2018-03-01</td>\n",
       "      <td>2018-03-01 11:10:40</td>\n",
       "      <td>1</td>\n",
       "      <td>1</td>\n",
       "      <td>2</td>\n",
       "      <td>99.9</td>\n",
       "      <td>53.9</td>\n",
       "      <td>...</td>\n",
       "      <td>28</td>\n",
       "      <td>28</td>\n",
       "      <td>7444318d01</td>\n",
       "      <td>2018-03-01 13:00:00</td>\n",
       "      <td>2018-03-02 08:00:00</td>\n",
       "      <td>2018-03-02 14:00:00</td>\n",
       "      <td>1</td>\n",
       "      <td>1</td>\n",
       "      <td>11</td>\n",
       "      <td>1 days 02:49:20</td>\n",
       "    </tr>\n",
       "    <tr>\n",
       "      <th>1</th>\n",
       "      <td>f973b01694</td>\n",
       "      <td>4ea3cf408f</td>\n",
       "      <td>623d0a582a</td>\n",
       "      <td>2018-03-01</td>\n",
       "      <td>2018-03-01 09:13:26</td>\n",
       "      <td>1</td>\n",
       "      <td>1</td>\n",
       "      <td>2</td>\n",
       "      <td>78.0</td>\n",
       "      <td>58.5</td>\n",
       "      <td>...</td>\n",
       "      <td>28</td>\n",
       "      <td>28</td>\n",
       "      <td>f973b01694</td>\n",
       "      <td>2018-03-01 14:00:00</td>\n",
       "      <td>2018-03-02 09:00:00</td>\n",
       "      <td>2018-03-02 13:00:00</td>\n",
       "      <td>1</td>\n",
       "      <td>1</td>\n",
       "      <td>9</td>\n",
       "      <td>1 days 03:46:34</td>\n",
       "    </tr>\n",
       "    <tr>\n",
       "      <th>2</th>\n",
       "      <td>8c1cec8d4b</td>\n",
       "      <td>b87cb736cb</td>\n",
       "      <td>fc5289b139</td>\n",
       "      <td>2018-03-01</td>\n",
       "      <td>2018-03-01 21:29:50</td>\n",
       "      <td>1</td>\n",
       "      <td>1</td>\n",
       "      <td>2</td>\n",
       "      <td>61.0</td>\n",
       "      <td>35.0</td>\n",
       "      <td>...</td>\n",
       "      <td>4</td>\n",
       "      <td>28</td>\n",
       "      <td>8c1cec8d4b</td>\n",
       "      <td>2018-03-02 09:00:00</td>\n",
       "      <td>2018-03-03 08:00:00</td>\n",
       "      <td>2018-03-04 11:00:00</td>\n",
       "      <td>1</td>\n",
       "      <td>1</td>\n",
       "      <td>21</td>\n",
       "      <td>2 days 13:30:10</td>\n",
       "    </tr>\n",
       "    <tr>\n",
       "      <th>3</th>\n",
       "      <td>d43a33c38a</td>\n",
       "      <td>4829223b6f</td>\n",
       "      <td>623d0a582a</td>\n",
       "      <td>2018-03-01</td>\n",
       "      <td>2018-03-01 19:13:37</td>\n",
       "      <td>1</td>\n",
       "      <td>1</td>\n",
       "      <td>1</td>\n",
       "      <td>78.0</td>\n",
       "      <td>53.0</td>\n",
       "      <td>...</td>\n",
       "      <td>3</td>\n",
       "      <td>16</td>\n",
       "      <td>d43a33c38a</td>\n",
       "      <td>2018-03-01 20:00:00</td>\n",
       "      <td>2018-03-02 07:00:00</td>\n",
       "      <td>2018-03-02 11:00:00</td>\n",
       "      <td>1</td>\n",
       "      <td>1</td>\n",
       "      <td>19</td>\n",
       "      <td>0 days 15:46:23</td>\n",
       "    </tr>\n",
       "    <tr>\n",
       "      <th>4</th>\n",
       "      <td>e0f5386d87</td>\n",
       "      <td>0b07cae293</td>\n",
       "      <td>589c2b865b</td>\n",
       "      <td>2018-03-01</td>\n",
       "      <td>2018-03-01 21:09:15</td>\n",
       "      <td>1</td>\n",
       "      <td>1</td>\n",
       "      <td>1</td>\n",
       "      <td>79.9</td>\n",
       "      <td>38.9</td>\n",
       "      <td>...</td>\n",
       "      <td>3</td>\n",
       "      <td>16</td>\n",
       "      <td>e0f5386d87</td>\n",
       "      <td>2018-03-01 22:00:00</td>\n",
       "      <td>2018-03-02 09:00:00</td>\n",
       "      <td>2018-03-02 12:00:00</td>\n",
       "      <td>1</td>\n",
       "      <td>1</td>\n",
       "      <td>21</td>\n",
       "      <td>0 days 14:50:45</td>\n",
       "    </tr>\n",
       "    <tr>\n",
       "      <th>...</th>\n",
       "      <td>...</td>\n",
       "      <td>...</td>\n",
       "      <td>...</td>\n",
       "      <td>...</td>\n",
       "      <td>...</td>\n",
       "      <td>...</td>\n",
       "      <td>...</td>\n",
       "      <td>...</td>\n",
       "      <td>...</td>\n",
       "      <td>...</td>\n",
       "      <td>...</td>\n",
       "      <td>...</td>\n",
       "      <td>...</td>\n",
       "      <td>...</td>\n",
       "      <td>...</td>\n",
       "      <td>...</td>\n",
       "      <td>...</td>\n",
       "      <td>...</td>\n",
       "      <td>...</td>\n",
       "      <td>...</td>\n",
       "      <td>...</td>\n",
       "    </tr>\n",
       "    <tr>\n",
       "      <th>326857</th>\n",
       "      <td>5fd298d448</td>\n",
       "      <td>165ee3e319</td>\n",
       "      <td>f7280c119d</td>\n",
       "      <td>2018-03-31</td>\n",
       "      <td>2018-03-31 12:42:35</td>\n",
       "      <td>1</td>\n",
       "      <td>0</td>\n",
       "      <td>3</td>\n",
       "      <td>269.0</td>\n",
       "      <td>189.0</td>\n",
       "      <td>...</td>\n",
       "      <td>2</td>\n",
       "      <td>2</td>\n",
       "      <td>1b81523e8d</td>\n",
       "      <td>2018-03-31 13:00:00</td>\n",
       "      <td>2018-04-02 07:00:00</td>\n",
       "      <td>2018-04-02 13:00:00</td>\n",
       "      <td>1</td>\n",
       "      <td>31</td>\n",
       "      <td>12</td>\n",
       "      <td>2 days 00:17:25</td>\n",
       "    </tr>\n",
       "    <tr>\n",
       "      <th>326858</th>\n",
       "      <td>9fa0694b3b</td>\n",
       "      <td>39933e9bc6</td>\n",
       "      <td>767ac490ed</td>\n",
       "      <td>2018-03-31</td>\n",
       "      <td>2018-03-31 19:51:43</td>\n",
       "      <td>1</td>\n",
       "      <td>1</td>\n",
       "      <td>2</td>\n",
       "      <td>0.0</td>\n",
       "      <td>-1.0</td>\n",
       "      <td>...</td>\n",
       "      <td>2</td>\n",
       "      <td>2</td>\n",
       "      <td>9fa0694b3b</td>\n",
       "      <td>2018-03-31 21:00:00</td>\n",
       "      <td>2018-04-01 07:00:00</td>\n",
       "      <td>2018-04-01 10:00:00</td>\n",
       "      <td>1</td>\n",
       "      <td>31</td>\n",
       "      <td>19</td>\n",
       "      <td>0 days 14:08:17</td>\n",
       "    </tr>\n",
       "    <tr>\n",
       "      <th>326859</th>\n",
       "      <td>c9d77a7ed0</td>\n",
       "      <td>18f92434cd</td>\n",
       "      <td>7f53769d3f</td>\n",
       "      <td>2018-03-31</td>\n",
       "      <td>2018-03-31 08:55:57</td>\n",
       "      <td>1</td>\n",
       "      <td>1</td>\n",
       "      <td>3</td>\n",
       "      <td>118.0</td>\n",
       "      <td>55.0</td>\n",
       "      <td>...</td>\n",
       "      <td>59</td>\n",
       "      <td>2</td>\n",
       "      <td>c9d77a7ed0</td>\n",
       "      <td>2018-03-31 11:00:00</td>\n",
       "      <td>2018-04-02 07:00:00</td>\n",
       "      <td>2018-04-02 15:00:00</td>\n",
       "      <td>1</td>\n",
       "      <td>31</td>\n",
       "      <td>8</td>\n",
       "      <td>2 days 06:04:03</td>\n",
       "    </tr>\n",
       "    <tr>\n",
       "      <th>326860</th>\n",
       "      <td>b9ad79338f</td>\n",
       "      <td>b5caf8a580</td>\n",
       "      <td>8dc4a01dec</td>\n",
       "      <td>2018-03-31</td>\n",
       "      <td>2018-03-31 13:31:01</td>\n",
       "      <td>1</td>\n",
       "      <td>1</td>\n",
       "      <td>2</td>\n",
       "      <td>78.0</td>\n",
       "      <td>78.0</td>\n",
       "      <td>...</td>\n",
       "      <td>2</td>\n",
       "      <td>2</td>\n",
       "      <td>b9ad79338f</td>\n",
       "      <td>2018-03-31 14:00:00</td>\n",
       "      <td>2018-04-01 07:00:00</td>\n",
       "      <td>2018-04-01 11:00:00</td>\n",
       "      <td>1</td>\n",
       "      <td>31</td>\n",
       "      <td>13</td>\n",
       "      <td>0 days 21:28:59</td>\n",
       "    </tr>\n",
       "    <tr>\n",
       "      <th>326861</th>\n",
       "      <td>02d31f05c9</td>\n",
       "      <td>f260895cbe</td>\n",
       "      <td>10d369ef96</td>\n",
       "      <td>2018-03-31</td>\n",
       "      <td>2018-03-31 18:21:16</td>\n",
       "      <td>1</td>\n",
       "      <td>0</td>\n",
       "      <td>4</td>\n",
       "      <td>68.0</td>\n",
       "      <td>49.0</td>\n",
       "      <td>...</td>\n",
       "      <td>4</td>\n",
       "      <td>28</td>\n",
       "      <td>1722a36a69</td>\n",
       "      <td>2018-04-01 14:00:00</td>\n",
       "      <td>2018-04-05 08:00:00</td>\n",
       "      <td>2018-04-05 13:00:00</td>\n",
       "      <td>1</td>\n",
       "      <td>31</td>\n",
       "      <td>18</td>\n",
       "      <td>4 days 18:38:44</td>\n",
       "    </tr>\n",
       "  </tbody>\n",
       "</table>\n",
       "<p>326862 rows × 25 columns</p>\n",
       "</div>"
      ],
      "text/plain": [
       "          order_ID     user_ID      sku_ID order_date          order_time  \\\n",
       "0       7444318d01  33a9e56257  067b673f2b 2018-03-01 2018-03-01 11:10:40   \n",
       "1       f973b01694  4ea3cf408f  623d0a582a 2018-03-01 2018-03-01 09:13:26   \n",
       "2       8c1cec8d4b  b87cb736cb  fc5289b139 2018-03-01 2018-03-01 21:29:50   \n",
       "3       d43a33c38a  4829223b6f  623d0a582a 2018-03-01 2018-03-01 19:13:37   \n",
       "4       e0f5386d87  0b07cae293  589c2b865b 2018-03-01 2018-03-01 21:09:15   \n",
       "...            ...         ...         ...        ...                 ...   \n",
       "326857  5fd298d448  165ee3e319  f7280c119d 2018-03-31 2018-03-31 12:42:35   \n",
       "326858  9fa0694b3b  39933e9bc6  767ac490ed 2018-03-31 2018-03-31 19:51:43   \n",
       "326859  c9d77a7ed0  18f92434cd  7f53769d3f 2018-03-31 2018-03-31 08:55:57   \n",
       "326860  b9ad79338f  b5caf8a580  8dc4a01dec 2018-03-31 2018-03-31 13:31:01   \n",
       "326861  02d31f05c9  f260895cbe  10d369ef96 2018-03-31 2018-03-31 18:21:16   \n",
       "\n",
       "        quantity  type_x promise  original_unit_price  final_unit_price  ...  \\\n",
       "0              1       1       2                 99.9              53.9  ...   \n",
       "1              1       1       2                 78.0              58.5  ...   \n",
       "2              1       1       2                 61.0              35.0  ...   \n",
       "3              1       1       1                 78.0              53.0  ...   \n",
       "4              1       1       1                 79.9              38.9  ...   \n",
       "...          ...     ...     ...                  ...               ...  ...   \n",
       "326857         1       0       3                269.0             189.0  ...   \n",
       "326858         1       1       2                  0.0              -1.0  ...   \n",
       "326859         1       1       3                118.0              55.0  ...   \n",
       "326860         1       1       2                 78.0              78.0  ...   \n",
       "326861         1       0       4                 68.0              49.0  ...   \n",
       "\n",
       "        dc_ori  dc_des  package_ID       ship_out_time    arr_station_time  \\\n",
       "0           28      28  7444318d01 2018-03-01 13:00:00 2018-03-02 08:00:00   \n",
       "1           28      28  f973b01694 2018-03-01 14:00:00 2018-03-02 09:00:00   \n",
       "2            4      28  8c1cec8d4b 2018-03-02 09:00:00 2018-03-03 08:00:00   \n",
       "3            3      16  d43a33c38a 2018-03-01 20:00:00 2018-03-02 07:00:00   \n",
       "4            3      16  e0f5386d87 2018-03-01 22:00:00 2018-03-02 09:00:00   \n",
       "...        ...     ...         ...                 ...                 ...   \n",
       "326857       2       2  1b81523e8d 2018-03-31 13:00:00 2018-04-02 07:00:00   \n",
       "326858       2       2  9fa0694b3b 2018-03-31 21:00:00 2018-04-01 07:00:00   \n",
       "326859      59       2  c9d77a7ed0 2018-03-31 11:00:00 2018-04-02 07:00:00   \n",
       "326860       2       2  b9ad79338f 2018-03-31 14:00:00 2018-04-01 07:00:00   \n",
       "326861       4      28  1722a36a69 2018-04-01 14:00:00 2018-04-05 08:00:00   \n",
       "\n",
       "                  arr_time  num_packages order_day order_hour   delivery_time  \n",
       "0      2018-03-02 14:00:00             1         1         11 1 days 02:49:20  \n",
       "1      2018-03-02 13:00:00             1         1          9 1 days 03:46:34  \n",
       "2      2018-03-04 11:00:00             1         1         21 2 days 13:30:10  \n",
       "3      2018-03-02 11:00:00             1         1         19 0 days 15:46:23  \n",
       "4      2018-03-02 12:00:00             1         1         21 0 days 14:50:45  \n",
       "...                    ...           ...       ...        ...             ...  \n",
       "326857 2018-04-02 13:00:00             1        31         12 2 days 00:17:25  \n",
       "326858 2018-04-01 10:00:00             1        31         19 0 days 14:08:17  \n",
       "326859 2018-04-02 15:00:00             1        31          8 2 days 06:04:03  \n",
       "326860 2018-04-01 11:00:00             1        31         13 0 days 21:28:59  \n",
       "326861 2018-04-05 13:00:00             1        31         18 4 days 18:38:44  \n",
       "\n",
       "[326862 rows x 25 columns]"
      ]
     },
     "execution_count": 21,
     "metadata": {},
     "output_type": "execute_result"
    }
   ],
   "source": [
    "merged_data_inner['delivery_time'] = merged_data_inner['arr_time'] - merged_data_inner['order_time']\n",
    "merged_data_inner"
   ]
  },
  {
   "cell_type": "markdown",
   "id": "bfa148fb",
   "metadata": {},
   "source": [
    "15. We will transform the delivery time to hours. Hint: You can use total_seconds() method to turn it into seconds and find hours. Use apply() to apply a function for the transformation."
   ]
  },
  {
   "cell_type": "code",
   "execution_count": 22,
   "id": "9e7052a2",
   "metadata": {},
   "outputs": [
    {
     "data": {
      "text/html": [
       "<div>\n",
       "<style scoped>\n",
       "    .dataframe tbody tr th:only-of-type {\n",
       "        vertical-align: middle;\n",
       "    }\n",
       "\n",
       "    .dataframe tbody tr th {\n",
       "        vertical-align: top;\n",
       "    }\n",
       "\n",
       "    .dataframe thead th {\n",
       "        text-align: right;\n",
       "    }\n",
       "</style>\n",
       "<table border=\"1\" class=\"dataframe\">\n",
       "  <thead>\n",
       "    <tr style=\"text-align: right;\">\n",
       "      <th></th>\n",
       "      <th>order_ID</th>\n",
       "      <th>user_ID</th>\n",
       "      <th>sku_ID</th>\n",
       "      <th>order_date</th>\n",
       "      <th>order_time</th>\n",
       "      <th>quantity</th>\n",
       "      <th>type_x</th>\n",
       "      <th>promise</th>\n",
       "      <th>original_unit_price</th>\n",
       "      <th>final_unit_price</th>\n",
       "      <th>...</th>\n",
       "      <th>dc_des</th>\n",
       "      <th>package_ID</th>\n",
       "      <th>ship_out_time</th>\n",
       "      <th>arr_station_time</th>\n",
       "      <th>arr_time</th>\n",
       "      <th>num_packages</th>\n",
       "      <th>order_day</th>\n",
       "      <th>order_hour</th>\n",
       "      <th>delivery_time</th>\n",
       "      <th>delivery_time_hours</th>\n",
       "    </tr>\n",
       "  </thead>\n",
       "  <tbody>\n",
       "    <tr>\n",
       "      <th>0</th>\n",
       "      <td>7444318d01</td>\n",
       "      <td>33a9e56257</td>\n",
       "      <td>067b673f2b</td>\n",
       "      <td>2018-03-01</td>\n",
       "      <td>2018-03-01 11:10:40</td>\n",
       "      <td>1</td>\n",
       "      <td>1</td>\n",
       "      <td>2</td>\n",
       "      <td>99.9</td>\n",
       "      <td>53.9</td>\n",
       "      <td>...</td>\n",
       "      <td>28</td>\n",
       "      <td>7444318d01</td>\n",
       "      <td>2018-03-01 13:00:00</td>\n",
       "      <td>2018-03-02 08:00:00</td>\n",
       "      <td>2018-03-02 14:00:00</td>\n",
       "      <td>1</td>\n",
       "      <td>1</td>\n",
       "      <td>11</td>\n",
       "      <td>1 days 02:49:20</td>\n",
       "      <td>26.822222</td>\n",
       "    </tr>\n",
       "    <tr>\n",
       "      <th>1</th>\n",
       "      <td>f973b01694</td>\n",
       "      <td>4ea3cf408f</td>\n",
       "      <td>623d0a582a</td>\n",
       "      <td>2018-03-01</td>\n",
       "      <td>2018-03-01 09:13:26</td>\n",
       "      <td>1</td>\n",
       "      <td>1</td>\n",
       "      <td>2</td>\n",
       "      <td>78.0</td>\n",
       "      <td>58.5</td>\n",
       "      <td>...</td>\n",
       "      <td>28</td>\n",
       "      <td>f973b01694</td>\n",
       "      <td>2018-03-01 14:00:00</td>\n",
       "      <td>2018-03-02 09:00:00</td>\n",
       "      <td>2018-03-02 13:00:00</td>\n",
       "      <td>1</td>\n",
       "      <td>1</td>\n",
       "      <td>9</td>\n",
       "      <td>1 days 03:46:34</td>\n",
       "      <td>27.776111</td>\n",
       "    </tr>\n",
       "    <tr>\n",
       "      <th>2</th>\n",
       "      <td>8c1cec8d4b</td>\n",
       "      <td>b87cb736cb</td>\n",
       "      <td>fc5289b139</td>\n",
       "      <td>2018-03-01</td>\n",
       "      <td>2018-03-01 21:29:50</td>\n",
       "      <td>1</td>\n",
       "      <td>1</td>\n",
       "      <td>2</td>\n",
       "      <td>61.0</td>\n",
       "      <td>35.0</td>\n",
       "      <td>...</td>\n",
       "      <td>28</td>\n",
       "      <td>8c1cec8d4b</td>\n",
       "      <td>2018-03-02 09:00:00</td>\n",
       "      <td>2018-03-03 08:00:00</td>\n",
       "      <td>2018-03-04 11:00:00</td>\n",
       "      <td>1</td>\n",
       "      <td>1</td>\n",
       "      <td>21</td>\n",
       "      <td>2 days 13:30:10</td>\n",
       "      <td>61.502778</td>\n",
       "    </tr>\n",
       "    <tr>\n",
       "      <th>3</th>\n",
       "      <td>d43a33c38a</td>\n",
       "      <td>4829223b6f</td>\n",
       "      <td>623d0a582a</td>\n",
       "      <td>2018-03-01</td>\n",
       "      <td>2018-03-01 19:13:37</td>\n",
       "      <td>1</td>\n",
       "      <td>1</td>\n",
       "      <td>1</td>\n",
       "      <td>78.0</td>\n",
       "      <td>53.0</td>\n",
       "      <td>...</td>\n",
       "      <td>16</td>\n",
       "      <td>d43a33c38a</td>\n",
       "      <td>2018-03-01 20:00:00</td>\n",
       "      <td>2018-03-02 07:00:00</td>\n",
       "      <td>2018-03-02 11:00:00</td>\n",
       "      <td>1</td>\n",
       "      <td>1</td>\n",
       "      <td>19</td>\n",
       "      <td>0 days 15:46:23</td>\n",
       "      <td>15.773056</td>\n",
       "    </tr>\n",
       "    <tr>\n",
       "      <th>4</th>\n",
       "      <td>e0f5386d87</td>\n",
       "      <td>0b07cae293</td>\n",
       "      <td>589c2b865b</td>\n",
       "      <td>2018-03-01</td>\n",
       "      <td>2018-03-01 21:09:15</td>\n",
       "      <td>1</td>\n",
       "      <td>1</td>\n",
       "      <td>1</td>\n",
       "      <td>79.9</td>\n",
       "      <td>38.9</td>\n",
       "      <td>...</td>\n",
       "      <td>16</td>\n",
       "      <td>e0f5386d87</td>\n",
       "      <td>2018-03-01 22:00:00</td>\n",
       "      <td>2018-03-02 09:00:00</td>\n",
       "      <td>2018-03-02 12:00:00</td>\n",
       "      <td>1</td>\n",
       "      <td>1</td>\n",
       "      <td>21</td>\n",
       "      <td>0 days 14:50:45</td>\n",
       "      <td>14.845833</td>\n",
       "    </tr>\n",
       "    <tr>\n",
       "      <th>...</th>\n",
       "      <td>...</td>\n",
       "      <td>...</td>\n",
       "      <td>...</td>\n",
       "      <td>...</td>\n",
       "      <td>...</td>\n",
       "      <td>...</td>\n",
       "      <td>...</td>\n",
       "      <td>...</td>\n",
       "      <td>...</td>\n",
       "      <td>...</td>\n",
       "      <td>...</td>\n",
       "      <td>...</td>\n",
       "      <td>...</td>\n",
       "      <td>...</td>\n",
       "      <td>...</td>\n",
       "      <td>...</td>\n",
       "      <td>...</td>\n",
       "      <td>...</td>\n",
       "      <td>...</td>\n",
       "      <td>...</td>\n",
       "      <td>...</td>\n",
       "    </tr>\n",
       "    <tr>\n",
       "      <th>326857</th>\n",
       "      <td>5fd298d448</td>\n",
       "      <td>165ee3e319</td>\n",
       "      <td>f7280c119d</td>\n",
       "      <td>2018-03-31</td>\n",
       "      <td>2018-03-31 12:42:35</td>\n",
       "      <td>1</td>\n",
       "      <td>0</td>\n",
       "      <td>3</td>\n",
       "      <td>269.0</td>\n",
       "      <td>189.0</td>\n",
       "      <td>...</td>\n",
       "      <td>2</td>\n",
       "      <td>1b81523e8d</td>\n",
       "      <td>2018-03-31 13:00:00</td>\n",
       "      <td>2018-04-02 07:00:00</td>\n",
       "      <td>2018-04-02 13:00:00</td>\n",
       "      <td>1</td>\n",
       "      <td>31</td>\n",
       "      <td>12</td>\n",
       "      <td>2 days 00:17:25</td>\n",
       "      <td>48.290278</td>\n",
       "    </tr>\n",
       "    <tr>\n",
       "      <th>326858</th>\n",
       "      <td>9fa0694b3b</td>\n",
       "      <td>39933e9bc6</td>\n",
       "      <td>767ac490ed</td>\n",
       "      <td>2018-03-31</td>\n",
       "      <td>2018-03-31 19:51:43</td>\n",
       "      <td>1</td>\n",
       "      <td>1</td>\n",
       "      <td>2</td>\n",
       "      <td>0.0</td>\n",
       "      <td>-1.0</td>\n",
       "      <td>...</td>\n",
       "      <td>2</td>\n",
       "      <td>9fa0694b3b</td>\n",
       "      <td>2018-03-31 21:00:00</td>\n",
       "      <td>2018-04-01 07:00:00</td>\n",
       "      <td>2018-04-01 10:00:00</td>\n",
       "      <td>1</td>\n",
       "      <td>31</td>\n",
       "      <td>19</td>\n",
       "      <td>0 days 14:08:17</td>\n",
       "      <td>14.138056</td>\n",
       "    </tr>\n",
       "    <tr>\n",
       "      <th>326859</th>\n",
       "      <td>c9d77a7ed0</td>\n",
       "      <td>18f92434cd</td>\n",
       "      <td>7f53769d3f</td>\n",
       "      <td>2018-03-31</td>\n",
       "      <td>2018-03-31 08:55:57</td>\n",
       "      <td>1</td>\n",
       "      <td>1</td>\n",
       "      <td>3</td>\n",
       "      <td>118.0</td>\n",
       "      <td>55.0</td>\n",
       "      <td>...</td>\n",
       "      <td>2</td>\n",
       "      <td>c9d77a7ed0</td>\n",
       "      <td>2018-03-31 11:00:00</td>\n",
       "      <td>2018-04-02 07:00:00</td>\n",
       "      <td>2018-04-02 15:00:00</td>\n",
       "      <td>1</td>\n",
       "      <td>31</td>\n",
       "      <td>8</td>\n",
       "      <td>2 days 06:04:03</td>\n",
       "      <td>54.067500</td>\n",
       "    </tr>\n",
       "    <tr>\n",
       "      <th>326860</th>\n",
       "      <td>b9ad79338f</td>\n",
       "      <td>b5caf8a580</td>\n",
       "      <td>8dc4a01dec</td>\n",
       "      <td>2018-03-31</td>\n",
       "      <td>2018-03-31 13:31:01</td>\n",
       "      <td>1</td>\n",
       "      <td>1</td>\n",
       "      <td>2</td>\n",
       "      <td>78.0</td>\n",
       "      <td>78.0</td>\n",
       "      <td>...</td>\n",
       "      <td>2</td>\n",
       "      <td>b9ad79338f</td>\n",
       "      <td>2018-03-31 14:00:00</td>\n",
       "      <td>2018-04-01 07:00:00</td>\n",
       "      <td>2018-04-01 11:00:00</td>\n",
       "      <td>1</td>\n",
       "      <td>31</td>\n",
       "      <td>13</td>\n",
       "      <td>0 days 21:28:59</td>\n",
       "      <td>21.483056</td>\n",
       "    </tr>\n",
       "    <tr>\n",
       "      <th>326861</th>\n",
       "      <td>02d31f05c9</td>\n",
       "      <td>f260895cbe</td>\n",
       "      <td>10d369ef96</td>\n",
       "      <td>2018-03-31</td>\n",
       "      <td>2018-03-31 18:21:16</td>\n",
       "      <td>1</td>\n",
       "      <td>0</td>\n",
       "      <td>4</td>\n",
       "      <td>68.0</td>\n",
       "      <td>49.0</td>\n",
       "      <td>...</td>\n",
       "      <td>28</td>\n",
       "      <td>1722a36a69</td>\n",
       "      <td>2018-04-01 14:00:00</td>\n",
       "      <td>2018-04-05 08:00:00</td>\n",
       "      <td>2018-04-05 13:00:00</td>\n",
       "      <td>1</td>\n",
       "      <td>31</td>\n",
       "      <td>18</td>\n",
       "      <td>4 days 18:38:44</td>\n",
       "      <td>114.645556</td>\n",
       "    </tr>\n",
       "  </tbody>\n",
       "</table>\n",
       "<p>326862 rows × 26 columns</p>\n",
       "</div>"
      ],
      "text/plain": [
       "          order_ID     user_ID      sku_ID order_date          order_time  \\\n",
       "0       7444318d01  33a9e56257  067b673f2b 2018-03-01 2018-03-01 11:10:40   \n",
       "1       f973b01694  4ea3cf408f  623d0a582a 2018-03-01 2018-03-01 09:13:26   \n",
       "2       8c1cec8d4b  b87cb736cb  fc5289b139 2018-03-01 2018-03-01 21:29:50   \n",
       "3       d43a33c38a  4829223b6f  623d0a582a 2018-03-01 2018-03-01 19:13:37   \n",
       "4       e0f5386d87  0b07cae293  589c2b865b 2018-03-01 2018-03-01 21:09:15   \n",
       "...            ...         ...         ...        ...                 ...   \n",
       "326857  5fd298d448  165ee3e319  f7280c119d 2018-03-31 2018-03-31 12:42:35   \n",
       "326858  9fa0694b3b  39933e9bc6  767ac490ed 2018-03-31 2018-03-31 19:51:43   \n",
       "326859  c9d77a7ed0  18f92434cd  7f53769d3f 2018-03-31 2018-03-31 08:55:57   \n",
       "326860  b9ad79338f  b5caf8a580  8dc4a01dec 2018-03-31 2018-03-31 13:31:01   \n",
       "326861  02d31f05c9  f260895cbe  10d369ef96 2018-03-31 2018-03-31 18:21:16   \n",
       "\n",
       "        quantity  type_x promise  original_unit_price  final_unit_price  ...  \\\n",
       "0              1       1       2                 99.9              53.9  ...   \n",
       "1              1       1       2                 78.0              58.5  ...   \n",
       "2              1       1       2                 61.0              35.0  ...   \n",
       "3              1       1       1                 78.0              53.0  ...   \n",
       "4              1       1       1                 79.9              38.9  ...   \n",
       "...          ...     ...     ...                  ...               ...  ...   \n",
       "326857         1       0       3                269.0             189.0  ...   \n",
       "326858         1       1       2                  0.0              -1.0  ...   \n",
       "326859         1       1       3                118.0              55.0  ...   \n",
       "326860         1       1       2                 78.0              78.0  ...   \n",
       "326861         1       0       4                 68.0              49.0  ...   \n",
       "\n",
       "        dc_des  package_ID       ship_out_time    arr_station_time  \\\n",
       "0           28  7444318d01 2018-03-01 13:00:00 2018-03-02 08:00:00   \n",
       "1           28  f973b01694 2018-03-01 14:00:00 2018-03-02 09:00:00   \n",
       "2           28  8c1cec8d4b 2018-03-02 09:00:00 2018-03-03 08:00:00   \n",
       "3           16  d43a33c38a 2018-03-01 20:00:00 2018-03-02 07:00:00   \n",
       "4           16  e0f5386d87 2018-03-01 22:00:00 2018-03-02 09:00:00   \n",
       "...        ...         ...                 ...                 ...   \n",
       "326857       2  1b81523e8d 2018-03-31 13:00:00 2018-04-02 07:00:00   \n",
       "326858       2  9fa0694b3b 2018-03-31 21:00:00 2018-04-01 07:00:00   \n",
       "326859       2  c9d77a7ed0 2018-03-31 11:00:00 2018-04-02 07:00:00   \n",
       "326860       2  b9ad79338f 2018-03-31 14:00:00 2018-04-01 07:00:00   \n",
       "326861      28  1722a36a69 2018-04-01 14:00:00 2018-04-05 08:00:00   \n",
       "\n",
       "                  arr_time  num_packages  order_day order_hour  \\\n",
       "0      2018-03-02 14:00:00             1          1         11   \n",
       "1      2018-03-02 13:00:00             1          1          9   \n",
       "2      2018-03-04 11:00:00             1          1         21   \n",
       "3      2018-03-02 11:00:00             1          1         19   \n",
       "4      2018-03-02 12:00:00             1          1         21   \n",
       "...                    ...           ...        ...        ...   \n",
       "326857 2018-04-02 13:00:00             1         31         12   \n",
       "326858 2018-04-01 10:00:00             1         31         19   \n",
       "326859 2018-04-02 15:00:00             1         31          8   \n",
       "326860 2018-04-01 11:00:00             1         31         13   \n",
       "326861 2018-04-05 13:00:00             1         31         18   \n",
       "\n",
       "         delivery_time delivery_time_hours  \n",
       "0      1 days 02:49:20           26.822222  \n",
       "1      1 days 03:46:34           27.776111  \n",
       "2      2 days 13:30:10           61.502778  \n",
       "3      0 days 15:46:23           15.773056  \n",
       "4      0 days 14:50:45           14.845833  \n",
       "...                ...                 ...  \n",
       "326857 2 days 00:17:25           48.290278  \n",
       "326858 0 days 14:08:17           14.138056  \n",
       "326859 2 days 06:04:03           54.067500  \n",
       "326860 0 days 21:28:59           21.483056  \n",
       "326861 4 days 18:38:44          114.645556  \n",
       "\n",
       "[326862 rows x 26 columns]"
      ]
     },
     "execution_count": 22,
     "metadata": {},
     "output_type": "execute_result"
    }
   ],
   "source": [
    "merged_data_inner['delivery_time_hours'] = merged_data_inner['delivery_time'].apply(lambda x: x.total_seconds() / 3600)\n",
    "merged_data_inner"
   ]
  },
  {
   "cell_type": "markdown",
   "id": "607f416f",
   "metadata": {},
   "source": [
    "16. Find the total number of packages between the origin distribution center and the destination center. What do you observe from those pairs of highest traffic? <br>\n",
    "Hint: You may group by the distribution centers and count the unique number of packages.<br>\n",
    "You can use reset_index() method to turn the groupby aggregation results into a regular dataframe for later operations."
   ]
  },
  {
   "cell_type": "code",
   "execution_count": 23,
   "id": "6beaa5ac",
   "metadata": {
    "scrolled": true
   },
   "outputs": [
    {
     "data": {
      "text/html": [
       "<div>\n",
       "<style scoped>\n",
       "    .dataframe tbody tr th:only-of-type {\n",
       "        vertical-align: middle;\n",
       "    }\n",
       "\n",
       "    .dataframe tbody tr th {\n",
       "        vertical-align: top;\n",
       "    }\n",
       "\n",
       "    .dataframe thead th {\n",
       "        text-align: right;\n",
       "    }\n",
       "</style>\n",
       "<table border=\"1\" class=\"dataframe\">\n",
       "  <thead>\n",
       "    <tr style=\"text-align: right;\">\n",
       "      <th></th>\n",
       "      <th>dc_ori</th>\n",
       "      <th>dc_des</th>\n",
       "      <th>package_ID</th>\n",
       "    </tr>\n",
       "  </thead>\n",
       "  <tbody>\n",
       "    <tr>\n",
       "      <th>31</th>\n",
       "      <td>5</td>\n",
       "      <td>5</td>\n",
       "      <td>31744</td>\n",
       "    </tr>\n",
       "    <tr>\n",
       "      <th>6</th>\n",
       "      <td>2</td>\n",
       "      <td>2</td>\n",
       "      <td>23480</td>\n",
       "    </tr>\n",
       "    <tr>\n",
       "      <th>71</th>\n",
       "      <td>9</td>\n",
       "      <td>9</td>\n",
       "      <td>23110</td>\n",
       "    </tr>\n",
       "    <tr>\n",
       "      <th>23</th>\n",
       "      <td>4</td>\n",
       "      <td>4</td>\n",
       "      <td>20470</td>\n",
       "    </tr>\n",
       "    <tr>\n",
       "      <th>120</th>\n",
       "      <td>24</td>\n",
       "      <td>24</td>\n",
       "      <td>12666</td>\n",
       "    </tr>\n",
       "    <tr>\n",
       "      <th>...</th>\n",
       "      <td>...</td>\n",
       "      <td>...</td>\n",
       "      <td>...</td>\n",
       "    </tr>\n",
       "    <tr>\n",
       "      <th>326</th>\n",
       "      <td>56</td>\n",
       "      <td>18</td>\n",
       "      <td>1</td>\n",
       "    </tr>\n",
       "    <tr>\n",
       "      <th>379</th>\n",
       "      <td>57</td>\n",
       "      <td>19</td>\n",
       "      <td>1</td>\n",
       "    </tr>\n",
       "    <tr>\n",
       "      <th>322</th>\n",
       "      <td>56</td>\n",
       "      <td>14</td>\n",
       "      <td>1</td>\n",
       "    </tr>\n",
       "    <tr>\n",
       "      <th>4</th>\n",
       "      <td>1</td>\n",
       "      <td>46</td>\n",
       "      <td>1</td>\n",
       "    </tr>\n",
       "    <tr>\n",
       "      <th>287</th>\n",
       "      <td>54</td>\n",
       "      <td>13</td>\n",
       "      <td>1</td>\n",
       "    </tr>\n",
       "  </tbody>\n",
       "</table>\n",
       "<p>627 rows × 3 columns</p>\n",
       "</div>"
      ],
      "text/plain": [
       "     dc_ori  dc_des  package_ID\n",
       "31        5       5       31744\n",
       "6         2       2       23480\n",
       "71        9       9       23110\n",
       "23        4       4       20470\n",
       "120      24      24       12666\n",
       "..      ...     ...         ...\n",
       "326      56      18           1\n",
       "379      57      19           1\n",
       "322      56      14           1\n",
       "4         1      46           1\n",
       "287      54      13           1\n",
       "\n",
       "[627 rows x 3 columns]"
      ]
     },
     "execution_count": 23,
     "metadata": {},
     "output_type": "execute_result"
    }
   ],
   "source": [
    "center_traffic = merged_data_inner.groupby(['dc_ori', 'dc_des'])['package_ID'].nunique().reset_index()\n",
    "center_traffic_sorted = center_traffic.sort_values(by='package_ID', ascending=False)\n",
    "center_traffic_sorted"
   ]
  },
  {
   "cell_type": "markdown",
   "id": "11d6ed80",
   "metadata": {},
   "source": [
    "17. Now let's go back to the original orders table. Find the orders where gift_item equals to 1 (use filtering). What do you find about the orignal_unit_price and final_unit_price in the filtered dataset? Do we consider the 0 price as data errors?"
   ]
  },
  {
   "cell_type": "code",
   "execution_count": 24,
   "id": "0e177d92",
   "metadata": {
    "scrolled": true
   },
   "outputs": [
    {
     "name": "stdout",
     "output_type": "stream",
     "text": [
      "0.0     94600\n",
      "69.0        5\n",
      "65.0        1\n",
      "Name: original_unit_price, dtype: int64\n",
      " 0.000000     86069\n",
      "-1.000000      2158\n",
      "-3.000000      1070\n",
      "-0.500000      1015\n",
      "-2.000000       910\n",
      "              ...  \n",
      "-3.625000         1\n",
      "-19.200000        1\n",
      "-0.428571         1\n",
      "-5.300000         1\n",
      "-3.150000         1\n",
      "Name: final_unit_price, Length: 138, dtype: int64\n"
     ]
    }
   ],
   "source": [
    "gift_item_orders = df_order[df_order['gift_item'] == 1]\n",
    "print(gift_item_orders['original_unit_price'].value_counts())\n",
    "print(gift_item_orders['final_unit_price'].value_counts())"
   ]
  },
  {
   "cell_type": "markdown",
   "id": "b7f3a034",
   "metadata": {},
   "source": [
    "18. Still use the original order table. Filter the orders of a product (sku: 'a0e49f9966') on '2018-3-15'. Calculate the sales. <br>\n",
    "Hint: we can multiply the quantity and final price columns together. <br>\n",
    "The outcome will be a pandas series. <br>\n",
    "The sum of the series will be the total sales. "
   ]
  },
  {
   "cell_type": "code",
   "execution_count": 25,
   "id": "f54f17b5",
   "metadata": {},
   "outputs": [
    {
     "data": {
      "text/html": [
       "<div>\n",
       "<style scoped>\n",
       "    .dataframe tbody tr th:only-of-type {\n",
       "        vertical-align: middle;\n",
       "    }\n",
       "\n",
       "    .dataframe tbody tr th {\n",
       "        vertical-align: top;\n",
       "    }\n",
       "\n",
       "    .dataframe thead th {\n",
       "        text-align: right;\n",
       "    }\n",
       "</style>\n",
       "<table border=\"1\" class=\"dataframe\">\n",
       "  <thead>\n",
       "    <tr style=\"text-align: right;\">\n",
       "      <th></th>\n",
       "      <th>order_ID</th>\n",
       "      <th>user_ID</th>\n",
       "      <th>sku_ID</th>\n",
       "      <th>order_date</th>\n",
       "      <th>order_time</th>\n",
       "      <th>quantity</th>\n",
       "      <th>type</th>\n",
       "      <th>promise</th>\n",
       "      <th>original_unit_price</th>\n",
       "      <th>final_unit_price</th>\n",
       "      <th>direct_discount_per_unit</th>\n",
       "      <th>quantity_discount_per_unit</th>\n",
       "      <th>bundle_discount_per_unit</th>\n",
       "      <th>coupon_discount_per_unit</th>\n",
       "      <th>gift_item</th>\n",
       "      <th>dc_ori</th>\n",
       "      <th>dc_des</th>\n",
       "    </tr>\n",
       "  </thead>\n",
       "  <tbody>\n",
       "  </tbody>\n",
       "</table>\n",
       "</div>"
      ],
      "text/plain": [
       "Empty DataFrame\n",
       "Columns: [order_ID, user_ID, sku_ID, order_date, order_time, quantity, type, promise, original_unit_price, final_unit_price, direct_discount_per_unit, quantity_discount_per_unit, bundle_discount_per_unit, coupon_discount_per_unit, gift_item, dc_ori, dc_des]\n",
       "Index: []"
      ]
     },
     "execution_count": 25,
     "metadata": {},
     "output_type": "execute_result"
    }
   ],
   "source": [
    "df_order[(df_order['sku_ID'] == 'a0e49f9966') & (df_order['order_date'] == '2018-03-15')]"
   ]
  },
  {
   "cell_type": "code",
   "execution_count": 26,
   "id": "b231a8c7",
   "metadata": {},
   "outputs": [
    {
     "name": "stdout",
     "output_type": "stream",
     "text": [
      "Sales Series:\n",
      "Series([], dtype: float64)\n",
      "\n",
      "Total Sales: 0.0\n"
     ]
    }
   ],
   "source": [
    "df_order['order_date'] = pd.to_datetime(df_order['order_date'])\n",
    "\n",
    "# Filter orders for the specified product on '2018-3-15'\n",
    "product_orders = df_order[(df_order['sku_ID'] == 'a0e49f9966') & (df_order['order_date'] == '2018-03-15')]\n",
    "\n",
    "# Calculate sales by multiplying quantity and final_price columns\n",
    "sales_series = product_orders['quantity'] * product_orders['final_unit_price']\n",
    "\n",
    "# Display the sales series\n",
    "print(\"Sales Series:\")\n",
    "print(sales_series)\n",
    "\n",
    "# Calculate the total sales by summing the series\n",
    "total_sales = sales_series.sum()\n",
    "\n",
    "# Display the total sales\n",
    "print(\"\\nTotal Sales:\", total_sales)"
   ]
  },
  {
   "cell_type": "markdown",
   "id": "8564c8a0",
   "metadata": {},
   "source": [
    "19. Now let's move to the user table. <br>\n",
    "Create a pivot table that counts the customers based on their user_level and education."
   ]
  },
  {
   "cell_type": "code",
   "execution_count": 27,
   "id": "934d9dd8",
   "metadata": {},
   "outputs": [
    {
     "name": "stdout",
     "output_type": "stream",
     "text": [
      "Pivot Table - Customer Counts:\n",
      "education      -1     1      2      3      4\n",
      "user_level                                  \n",
      "-1           2294     0      0      9      0\n",
      " 0            145     0      7      8      1\n",
      " 1          66391  3001  24182  35486    369\n",
      " 2          28310  3270  32953  75907   1419\n",
      " 3           8201  1260  13418  68944   4979\n",
      " 4           4023   629   3606  37548  39922\n",
      " 10          1005     0      2      6      3\n"
     ]
    }
   ],
   "source": [
    "pivot_table_counts = pd.pivot_table(df_user, values='user_ID', index='user_level', columns='education', aggfunc='count', fill_value=0)\n",
    "print(\"Pivot Table - Customer Counts:\")\n",
    "print(pivot_table_counts)"
   ]
  },
  {
   "cell_type": "markdown",
   "id": "4f8df9fa",
   "metadata": {},
   "source": [
    "20. Answer one of your descriptive questions using groupby or pivot table."
   ]
  },
  {
   "cell_type": "code",
   "execution_count": 28,
   "id": "bce931a8",
   "metadata": {
    "scrolled": true
   },
   "outputs": [
    {
     "name": "stdout",
     "output_type": "stream",
     "text": [
      "Total Quantity Sold per Product:\n",
      "          sku_ID  quantity\n",
      "0     000aa92b82        14\n",
      "1     000d4af39d         1\n",
      "2     000dc27e13         1\n",
      "3     000e84e3a7         1\n",
      "4     00104dbcd7        89\n",
      "...          ...       ...\n",
      "9154  fff33f1633         3\n",
      "9155  fff4328ec0         1\n",
      "9156  fff84ed7ec        16\n",
      "9157  fffe1bd280       588\n",
      "9158  fffe6eb4df         8\n",
      "\n",
      "[9159 rows x 2 columns]\n"
     ]
    }
   ],
   "source": [
    "#What otal Quantity Sold per Product\n",
    "quantity_per_product = df_order.groupby('sku_ID')['quantity'].sum().reset_index()\n",
    "\n",
    "# Display the result\n",
    "print(\"Total Quantity Sold per Product:\")\n",
    "print(quantity_per_product)"
   ]
  },
  {
   "cell_type": "markdown",
   "id": "5f87e3ec",
   "metadata": {},
   "source": [
    "### Assignment 10 starts here. Q21-Q30.\n",
    "We now further explore the data, especially with graphs. We do not require formatting details of graph. The basics are enough."
   ]
  },
  {
   "cell_type": "markdown",
   "id": "412b9f1d",
   "metadata": {},
   "source": [
    "21. Let's first look at the user table. Use info() to display basic information about the table. Check the Dtype column. What is the data type for variable user_level? This data type does not fit our description about this variable: <br>\n",
    "\"taking on a value of 0, 1, 2, 3, or 4, where a higher user_level is associated with a higher total purchase value in the past. For users who are enterprise users (e.g., small shops in rural areas or small businesses), the corresponding\n",
    "user_level takes on a value of 10. However, for first-time purchasers, their user_level takes on\n",
    "the value −1.\" <br>\n",
    "The numbers do not have a numeric meaning, but refer to categories of customers. So, we would like to change the data type to categorical. Please use .astype('string') to change the data type of user_level.<br>\n",
    "You may find similar situation for variables: education, city_level and purchase_power. Change their data type too."
   ]
  },
  {
   "cell_type": "code",
   "execution_count": 29,
   "id": "510c4574",
   "metadata": {
    "scrolled": false
   },
   "outputs": [
    {
     "name": "stdout",
     "output_type": "stream",
     "text": [
      "<class 'pandas.core.frame.DataFrame'>\n",
      "RangeIndex: 457298 entries, 0 to 457297\n",
      "Data columns (total 10 columns):\n",
      " #   Column             Non-Null Count   Dtype \n",
      "---  ------             --------------   ----- \n",
      " 0   user_ID            457298 non-null  object\n",
      " 1   user_level         457298 non-null  int64 \n",
      " 2   first_order_month  457298 non-null  object\n",
      " 3   plus               457298 non-null  int64 \n",
      " 4   gender             457298 non-null  object\n",
      " 5   age                457298 non-null  object\n",
      " 6   marital_status     457298 non-null  object\n",
      " 7   education          457298 non-null  int64 \n",
      " 8   city_level         457298 non-null  int64 \n",
      " 9   purchase_power     457298 non-null  int64 \n",
      "dtypes: int64(5), object(5)\n",
      "memory usage: 34.9+ MB\n"
     ]
    }
   ],
   "source": [
    "df_user.info()"
   ]
  },
  {
   "cell_type": "code",
   "execution_count": 30,
   "id": "604e4700",
   "metadata": {},
   "outputs": [
    {
     "name": "stdout",
     "output_type": "stream",
     "text": [
      "0          3\n",
      "1         -1\n",
      "2          3\n",
      "3          3\n",
      "4         -1\n",
      "          ..\n",
      "457293    -1\n",
      "457294     3\n",
      "457295     2\n",
      "457296    -1\n",
      "457297    -1\n",
      "Name: education, Length: 457298, dtype: string\n"
     ]
    }
   ],
   "source": [
    "df_user['user_level'] = df_user['user_level'].astype('string')\n",
    "\n",
    "# Change data types of other variables\n",
    "df_user['education'] = df_user['education'].astype('string')\n",
    "df_user['city_level'] = df_user['city_level'].astype('string')\n",
    "df_user['purchase_power'] = df_user['purchase_power'].astype('string')\n",
    "print(df_user['education'])"
   ]
  },
  {
   "cell_type": "markdown",
   "id": "981de815",
   "metadata": {},
   "source": [
    "22. 1) The meaning of '-1' for user_level is new customer. We will replace '-1' with 'New' and '10' with 'Bus'. Notice that -1 now changes to a string '-1'."
   ]
  },
  {
   "cell_type": "code",
   "execution_count": 31,
   "id": "e839f106",
   "metadata": {},
   "outputs": [
    {
     "name": "stdout",
     "output_type": "stream",
     "text": [
      "Updated user level: New\n"
     ]
    }
   ],
   "source": [
    "# Assuming you have a variable user_level that holds the user's level\n",
    "user_level = '-1'\n",
    "\n",
    "if user_level == '-1':\n",
    "    user_level = 'New'\n",
    "\n",
    "elif user_level == '10':\n",
    "    user_level = 'Bus'\n",
    "\n",
    "print(\"Updated user level:\", user_level)\n"
   ]
  },
  {
   "cell_type": "markdown",
   "id": "7d690477",
   "metadata": {},
   "source": [
    "2) The meaning of -1 in education, city_level and purchase_power is missing values. We will replace it with 'U', as missing value indicator of other variables like 'age', 'gender', etc."
   ]
  },
  {
   "cell_type": "code",
   "execution_count": 32,
   "id": "1160a43b",
   "metadata": {
    "scrolled": true
   },
   "outputs": [
    {
     "name": "stdout",
     "output_type": "stream",
     "text": [
      "Updated education: U\n",
      "Updated city_level: U\n",
      "Updated purchase_power: U\n"
     ]
    }
   ],
   "source": [
    "# Assuming you have variables for education, city_level, and purchase_power\n",
    "education = -1\n",
    "city_level = -1\n",
    "purchase_power = -1\n",
    "\n",
    "# Replace -1 with 'U' for missing values\n",
    "if education == -1:\n",
    "    education = 'U'\n",
    "\n",
    "if city_level == -1:\n",
    "    city_level = 'U'\n",
    "\n",
    "if purchase_power == -1:\n",
    "    purchase_power = 'U'\n",
    "\n",
    "# Print the updated values\n",
    "print(\"Updated education:\", education)\n",
    "print(\"Updated city_level:\", city_level)\n",
    "print(\"Updated purchase_power:\", purchase_power)\n"
   ]
  },
  {
   "cell_type": "code",
   "execution_count": 33,
   "id": "133f9fdb",
   "metadata": {},
   "outputs": [],
   "source": [
    "# Replace -1 with 'U' in specific columns\n",
    "columns_to_replace = ['education', 'city_level', 'purchase_power']\n",
    "df_user[columns_to_replace] = df_user[columns_to_replace].replace(-1, 'U')\n"
   ]
  },
  {
   "cell_type": "markdown",
   "id": "c42dd2fb",
   "metadata": {},
   "source": [
    "23. Let's move to the user table. Almost all user features are categorical variables. Make bar graphs to examine the distribution of \"user_level', 'plus', 'gender', 'age', 'marital_status', 'education', 'city_level', and 'purchase_power'. You may consider using a loop. Based on the graphs, you may answer questions like these:\n",
    " 1. What is the education level of the majority?\n",
    " 2. Which age level has the most users?"
   ]
  },
  {
   "cell_type": "code",
   "execution_count": 34,
   "id": "62f63191",
   "metadata": {},
   "outputs": [
    {
     "data": {
      "text/plain": [
       "<Figure size 400x200 with 0 Axes>"
      ]
     },
     "execution_count": 34,
     "metadata": {},
     "output_type": "execute_result"
    },
    {
     "data": {
      "text/plain": [
       "<Axes: >"
      ]
     },
     "execution_count": 34,
     "metadata": {},
     "output_type": "execute_result"
    },
    {
     "data": {
      "text/plain": [
       "Text(0.5, 1.0, 'Distribution of user_level')"
      ]
     },
     "execution_count": 34,
     "metadata": {},
     "output_type": "execute_result"
    },
    {
     "data": {
      "text/plain": [
       "Text(0.5, 0, 'user_level')"
      ]
     },
     "execution_count": 34,
     "metadata": {},
     "output_type": "execute_result"
    },
    {
     "data": {
      "text/plain": [
       "Text(0, 0.5, 'Count')"
      ]
     },
     "execution_count": 34,
     "metadata": {},
     "output_type": "execute_result"
    },
    {
     "data": {
      "image/png": "[encoded data removed]",
      "text/plain": [
       "<Figure size 400x200 with 1 Axes>"
      ]
     },
     "metadata": {},
     "output_type": "display_data"
    },
    {
     "data": {
      "text/plain": [
       "<Figure size 400x200 with 0 Axes>"
      ]
     },
     "execution_count": 34,
     "metadata": {},
     "output_type": "execute_result"
    },
    {
     "data": {
      "text/plain": [
       "<Axes: >"
      ]
     },
     "execution_count": 34,
     "metadata": {},
     "output_type": "execute_result"
    },
    {
     "data": {
      "text/plain": [
       "Text(0.5, 1.0, 'Distribution of plus')"
      ]
     },
     "execution_count": 34,
     "metadata": {},
     "output_type": "execute_result"
    },
    {
     "data": {
      "text/plain": [
       "Text(0.5, 0, 'plus')"
      ]
     },
     "execution_count": 34,
     "metadata": {},
     "output_type": "execute_result"
    },
    {
     "data": {
      "text/plain": [
       "Text(0, 0.5, 'Count')"
      ]
     },
     "execution_count": 34,
     "metadata": {},
     "output_type": "execute_result"
    },
    {
     "data": {
      "image/png": "[encoded data removed]",
      "text/plain": [
       "<Figure size 400x200 with 1 Axes>"
      ]
     },
     "metadata": {},
     "output_type": "display_data"
    },
    {
     "data": {
      "text/plain": [
       "<Figure size 400x200 with 0 Axes>"
      ]
     },
     "execution_count": 34,
     "metadata": {},
     "output_type": "execute_result"
    },
    {
     "data": {
      "text/plain": [
       "<Axes: >"
      ]
     },
     "execution_count": 34,
     "metadata": {},
     "output_type": "execute_result"
    },
    {
     "data": {
      "text/plain": [
       "Text(0.5, 1.0, 'Distribution of gender')"
      ]
     },
     "execution_count": 34,
     "metadata": {},
     "output_type": "execute_result"
    },
    {
     "data": {
      "text/plain": [
       "Text(0.5, 0, 'gender')"
      ]
     },
     "execution_count": 34,
     "metadata": {},
     "output_type": "execute_result"
    },
    {
     "data": {
      "text/plain": [
       "Text(0, 0.5, 'Count')"
      ]
     },
     "execution_count": 34,
     "metadata": {},
     "output_type": "execute_result"
    },
    {
     "data": {
      "image/png": "[encoded data removed]",
      "text/plain": [
       "<Figure size 400x200 with 1 Axes>"
      ]
     },
     "metadata": {},
     "output_type": "display_data"
    },
    {
     "data": {
      "text/plain": [
       "<Figure size 400x200 with 0 Axes>"
      ]
     },
     "execution_count": 34,
     "metadata": {},
     "output_type": "execute_result"
    },
    {
     "data": {
      "text/plain": [
       "<Axes: >"
      ]
     },
     "execution_count": 34,
     "metadata": {},
     "output_type": "execute_result"
    },
    {
     "data": {
      "text/plain": [
       "Text(0.5, 1.0, 'Distribution of age')"
      ]
     },
     "execution_count": 34,
     "metadata": {},
     "output_type": "execute_result"
    },
    {
     "data": {
      "text/plain": [
       "Text(0.5, 0, 'age')"
      ]
     },
     "execution_count": 34,
     "metadata": {},
     "output_type": "execute_result"
    },
    {
     "data": {
      "text/plain": [
       "Text(0, 0.5, 'Count')"
      ]
     },
     "execution_count": 34,
     "metadata": {},
     "output_type": "execute_result"
    },
    {
     "data": {
      "image/png": "[encoded data removed]",
      "text/plain": [
       "<Figure size 400x200 with 1 Axes>"
      ]
     },
     "metadata": {},
     "output_type": "display_data"
    },
    {
     "data": {
      "text/plain": [
       "<Figure size 400x200 with 0 Axes>"
      ]
     },
     "execution_count": 34,
     "metadata": {},
     "output_type": "execute_result"
    },
    {
     "data": {
      "text/plain": [
       "<Axes: >"
      ]
     },
     "execution_count": 34,
     "metadata": {},
     "output_type": "execute_result"
    },
    {
     "data": {
      "text/plain": [
       "Text(0.5, 1.0, 'Distribution of marital_status')"
      ]
     },
     "execution_count": 34,
     "metadata": {},
     "output_type": "execute_result"
    },
    {
     "data": {
      "text/plain": [
       "Text(0.5, 0, 'marital_status')"
      ]
     },
     "execution_count": 34,
     "metadata": {},
     "output_type": "execute_result"
    },
    {
     "data": {
      "text/plain": [
       "Text(0, 0.5, 'Count')"
      ]
     },
     "execution_count": 34,
     "metadata": {},
     "output_type": "execute_result"
    },
    {
     "data": {
      "image/png": "[encoded data removed]",
      "text/plain": [
       "<Figure size 400x200 with 1 Axes>"
      ]
     },
     "metadata": {},
     "output_type": "display_data"
    },
    {
     "data": {
      "text/plain": [
       "<Figure size 400x200 with 0 Axes>"
      ]
     },
     "execution_count": 34,
     "metadata": {},
     "output_type": "execute_result"
    },
    {
     "data": {
      "text/plain": [
       "<Axes: >"
      ]
     },
     "execution_count": 34,
     "metadata": {},
     "output_type": "execute_result"
    },
    {
     "data": {
      "text/plain": [
       "Text(0.5, 1.0, 'Distribution of education')"
      ]
     },
     "execution_count": 34,
     "metadata": {},
     "output_type": "execute_result"
    },
    {
     "data": {
      "text/plain": [
       "Text(0.5, 0, 'education')"
      ]
     },
     "execution_count": 34,
     "metadata": {},
     "output_type": "execute_result"
    },
    {
     "data": {
      "text/plain": [
       "Text(0, 0.5, 'Count')"
      ]
     },
     "execution_count": 34,
     "metadata": {},
     "output_type": "execute_result"
    },
    {
     "data": {
      "image/png": "[encoded data removed]",
      "text/plain": [
       "<Figure size 400x200 with 1 Axes>"
      ]
     },
     "metadata": {},
     "output_type": "display_data"
    },
    {
     "data": {
      "text/plain": [
       "<Figure size 400x200 with 0 Axes>"
      ]
     },
     "execution_count": 34,
     "metadata": {},
     "output_type": "execute_result"
    },
    {
     "data": {
      "text/plain": [
       "<Axes: >"
      ]
     },
     "execution_count": 34,
     "metadata": {},
     "output_type": "execute_result"
    },
    {
     "data": {
      "text/plain": [
       "Text(0.5, 1.0, 'Distribution of city_level')"
      ]
     },
     "execution_count": 34,
     "metadata": {},
     "output_type": "execute_result"
    },
    {
     "data": {
      "text/plain": [
       "Text(0.5, 0, 'city_level')"
      ]
     },
     "execution_count": 34,
     "metadata": {},
     "output_type": "execute_result"
    },
    {
     "data": {
      "text/plain": [
       "Text(0, 0.5, 'Count')"
      ]
     },
     "execution_count": 34,
     "metadata": {},
     "output_type": "execute_result"
    },
    {
     "data": {
      "image/png": "[encoded data removed]",
      "text/plain": [
       "<Figure size 400x200 with 1 Axes>"
      ]
     },
     "metadata": {},
     "output_type": "display_data"
    },
    {
     "data": {
      "text/plain": [
       "<Figure size 400x200 with 0 Axes>"
      ]
     },
     "execution_count": 34,
     "metadata": {},
     "output_type": "execute_result"
    },
    {
     "data": {
      "text/plain": [
       "<Axes: >"
      ]
     },
     "execution_count": 34,
     "metadata": {},
     "output_type": "execute_result"
    },
    {
     "data": {
      "text/plain": [
       "Text(0.5, 1.0, 'Distribution of purchase_power')"
      ]
     },
     "execution_count": 34,
     "metadata": {},
     "output_type": "execute_result"
    },
    {
     "data": {
      "text/plain": [
       "Text(0.5, 0, 'purchase_power')"
      ]
     },
     "execution_count": 34,
     "metadata": {},
     "output_type": "execute_result"
    },
    {
     "data": {
      "text/plain": [
       "Text(0, 0.5, 'Count')"
      ]
     },
     "execution_count": 34,
     "metadata": {},
     "output_type": "execute_result"
    },
    {
     "data": {
      "image/png": "[encoded data removed]",
      "text/plain": [
       "<Figure size 400x200 with 1 Axes>"
      ]
     },
     "metadata": {},
     "output_type": "display_data"
    }
   ],
   "source": [
    "import matplotlib.pyplot as plt\n",
    "import pandas as pd\n",
    "\n",
    "# Sample user DataFrame (replace this with your actual DataFrame)\n",
    "user_data = {\n",
    "    'user_level': ['A', 'B', 'C', 'A', 'B'],\n",
    "    'plus': ['Yes', 'No', 'Yes', 'No', 'Yes'],\n",
    "    'gender': ['Male', 'Female', 'Male', 'Female', 'Male'],\n",
    "    'age': [25, 30, 22, 35, 28],\n",
    "    'marital_status': ['Single', 'Married', 'Single', 'Married', 'Single'],\n",
    "    'education': ['Bachelor', 'Master', 'High School', 'Bachelor', 'Doctorate'],\n",
    "    'city_level': ['Urban', 'Suburban', 'Rural', 'Urban', 'Suburban'],\n",
    "    'purchase_power': ['High', 'Medium', 'Low', 'High', 'Medium']\n",
    "}\n",
    "\n",
    "user_df = pd.DataFrame(user_data)\n",
    "\n",
    "# Bar graphs for each categorical variable\n",
    "categories = ['user_level', 'plus', 'gender', 'age', 'marital_status', 'education', 'city_level', 'purchase_power']\n",
    "\n",
    "for category in categories:\n",
    "    plt.figure(figsize=(4, 2))\n",
    "    df_user[category].value_counts().sort_index().plot(kind='bar', color='skyblue')\n",
    "    plt.title(f'Distribution of {category}')\n",
    "    plt.xlabel(category)\n",
    "    plt.ylabel('Count')\n",
    "    plt.show()\n"
   ]
  },
  {
   "cell_type": "markdown",
   "id": "da17ae2a",
   "metadata": {},
   "source": [
    "25. Next we move to the table that resulted from Q10-Q15. Sum the quantity by day (we created this variable in Q14.) and save the results.\n",
    "Create a line graph based on it. Hint: The outcome of the sum is a Pandas Series. Use the .index to get the day and .values to get the sum for the plot.<br>\n",
    "Or you may use reset_index() to turn the results to a dataframe.\n",
    "Which day has the most quantity sold? "
   ]
  },
  {
   "cell_type": "code",
   "execution_count": 35,
   "id": "31bf318c",
   "metadata": {
    "scrolled": true
   },
   "outputs": [
    {
     "data": {
      "text/plain": [
       "<Figure size 600x400 with 0 Axes>"
      ]
     },
     "execution_count": 35,
     "metadata": {},
     "output_type": "execute_result"
    },
    {
     "data": {
      "text/plain": [
       "[<matplotlib.lines.Line2D at 0x12c1f29d710>]"
      ]
     },
     "execution_count": 35,
     "metadata": {},
     "output_type": "execute_result"
    },
    {
     "data": {
      "text/plain": [
       "Text(0.5, 1.0, 'Quantity Sold by Day')"
      ]
     },
     "execution_count": 35,
     "metadata": {},
     "output_type": "execute_result"
    },
    {
     "data": {
      "text/plain": [
       "Text(0.5, 0, 'Day')"
      ]
     },
     "execution_count": 35,
     "metadata": {},
     "output_type": "execute_result"
    },
    {
     "data": {
      "text/plain": [
       "Text(0, 0.5, 'Total Quantity Sold')"
      ]
     },
     "execution_count": 35,
     "metadata": {},
     "output_type": "execute_result"
    },
    {
     "data": {
      "image/png": "[encoded data removed]",
      "text/plain": [
       "<Figure size 600x400 with 1 Axes>"
      ]
     },
     "metadata": {},
     "output_type": "display_data"
    },
    {
     "name": "stdout",
     "output_type": "stream",
     "text": [
      "The day with the most quantity sold is Thursday with a total of 150 units.\n"
     ]
    }
   ],
   "source": [
    "import pandas as pd\n",
    "import matplotlib.pyplot as plt\n",
    "\n",
    "# Sample result DataFrame (replace this with your actual DataFrame)\n",
    "result_data = {\n",
    "    'day': ['Monday', 'Tuesday', 'Wednesday', 'Thursday', 'Friday'],\n",
    "    'quantity': [100, 120, 90, 150, 110]\n",
    "}\n",
    "\n",
    "result_df = pd.DataFrame(result_data)\n",
    "\n",
    "# Sum the quantity by day\n",
    "daily_sum = result_df.groupby('day')['quantity'].sum()\n",
    "\n",
    "# Create a line graph\n",
    "plt.figure(figsize=(10, 6))\n",
    "plt.plot(daily_sum.index, daily_sum.values, marker='o', linestyle='-')\n",
    "plt.title('Quantity Sold by Day')\n",
    "plt.xlabel('Day')\n",
    "plt.ylabel('Total Quantity Sold')\n",
    "plt.grid(True)\n",
    "plt.show()\n",
    "\n",
    "# Find the day with the most quantity sold\n",
    "max_day = daily_sum.idxmax()\n",
    "max_quantity = daily_sum.max()\n",
    "\n",
    "print(f\"The day with the most quantity sold is {max_day} with a total of {max_quantity} units.\")\n"
   ]
  },
  {
   "cell_type": "markdown",
   "id": "9d3763ce",
   "metadata": {},
   "source": [
    "26. Repeat Q25 for variable 'hour' we created in Q14. When is the peak time for orders during a day? Can you describe the customer order trend over a day's time?"
   ]
  },
  {
   "cell_type": "code",
   "execution_count": 36,
   "id": "bef7e971",
   "metadata": {},
   "outputs": [
    {
     "data": {
      "text/plain": [
       "<Figure size 1000x600 with 0 Axes>"
      ]
     },
     "execution_count": 36,
     "metadata": {},
     "output_type": "execute_result"
    },
    {
     "data": {
      "text/plain": [
       "[<matplotlib.lines.Line2D at 0x12c1f360d90>]"
      ]
     },
     "execution_count": 36,
     "metadata": {},
     "output_type": "execute_result"
    },
    {
     "data": {
      "text/plain": [
       "Text(0.5, 1.0, 'Customer Order Trend Over a Day')"
      ]
     },
     "execution_count": 36,
     "metadata": {},
     "output_type": "execute_result"
    },
    {
     "data": {
      "text/plain": [
       "Text(0.5, 0, 'Hour of the Day')"
      ]
     },
     "execution_count": 36,
     "metadata": {},
     "output_type": "execute_result"
    },
    {
     "data": {
      "text/plain": [
       "Text(0, 0.5, 'Total Quantity Sold')"
      ]
     },
     "execution_count": 36,
     "metadata": {},
     "output_type": "execute_result"
    },
    {
     "data": {
      "text/plain": [
       "([<matplotlib.axis.XTick at 0x12c1f3614d0>,\n",
       "  <matplotlib.axis.XTick at 0x12c1f2fbe10>,\n",
       "  <matplotlib.axis.XTick at 0x12c1f3808d0>,\n",
       "  <matplotlib.axis.XTick at 0x12c1f32acd0>,\n",
       "  <matplotlib.axis.XTick at 0x12c1f3acfd0>,\n",
       "  <matplotlib.axis.XTick at 0x12c1f3af250>,\n",
       "  <matplotlib.axis.XTick at 0x12c1f3afe90>,\n",
       "  <matplotlib.axis.XTick at 0x12c1f3be110>],\n",
       " [Text(8, 0, '8'),\n",
       "  Text(10, 0, '10'),\n",
       "  Text(12, 0, '12'),\n",
       "  Text(14, 0, '14'),\n",
       "  Text(16, 0, '16'),\n",
       "  Text(18, 0, '18'),\n",
       "  Text(20, 0, '20'),\n",
       "  Text(22, 0, '22')])"
      ]
     },
     "execution_count": 36,
     "metadata": {},
     "output_type": "execute_result"
    },
    {
     "data": {
      "image/png": "[encoded data removed]",
      "text/plain": [
       "<Figure size 1000x600 with 1 Axes>"
      ]
     },
     "metadata": {},
     "output_type": "display_data"
    },
    {
     "name": "stdout",
     "output_type": "stream",
     "text": [
      "The peak time for orders during a day is at 14:00 with a total of 150 units.\n"
     ]
    }
   ],
   "source": [
    "import pandas as pd\n",
    "import matplotlib.pyplot as plt\n",
    "\n",
    "# Sample result DataFrame (replace this with your actual DataFrame)\n",
    "result_data = {\n",
    "    'hour': [8, 10, 12, 14, 16, 18, 20, 22],\n",
    "    'quantity': [100, 120, 90, 150, 110, 130, 95, 80]\n",
    "}\n",
    "\n",
    "result_df = pd.DataFrame(result_data)\n",
    "\n",
    "# Sum the quantity by hour\n",
    "hourly_sum = result_df.groupby('hour')['quantity'].sum()\n",
    "\n",
    "# Create a line graph for the customer order trend over a day's time\n",
    "plt.figure(figsize=(10, 6))\n",
    "plt.plot(hourly_sum.index, hourly_sum.values, marker='o', linestyle='-', color='green')\n",
    "plt.title('Customer Order Trend Over a Day')\n",
    "plt.xlabel('Hour of the Day')\n",
    "plt.ylabel('Total Quantity Sold')\n",
    "plt.xticks(hourly_sum.index)\n",
    "plt.grid(True)\n",
    "plt.show()\n",
    "\n",
    "# Find the peak time for orders during a day\n",
    "peak_hour = hourly_sum.idxmax()\n",
    "peak_quantity = hourly_sum.max()\n",
    "\n",
    "print(f\"The peak time for orders during a day is at {peak_hour}:00 with a total of {peak_quantity} units.\")\n"
   ]
  },
  {
   "cell_type": "markdown",
   "id": "4a661088",
   "metadata": {},
   "source": [
    "27. Examine variable original_unit_price .<br>"
   ]
  },
  {
   "cell_type": "markdown",
   "id": "3e503d07",
   "metadata": {},
   "source": [
    "1) Using describe() to check the stastitics. What is min, max and median?"
   ]
  },
  {
   "cell_type": "code",
   "execution_count": 37,
   "id": "c19e4bb1",
   "metadata": {},
   "outputs": [
    {
     "name": "stdout",
     "output_type": "stream",
     "text": [
      "Minimum original unit price: 0.0\n",
      "Maximum original unit price: 12158.0\n",
      "Median original unit price: 79.0\n"
     ]
    }
   ],
   "source": [
    "original_unit_price_stats = df_order['original_unit_price'].describe()\n",
    "\n",
    "# Extract min, max, and median\n",
    "min_price = original_unit_price_stats['min']\n",
    "max_price = original_unit_price_stats['max']\n",
    "median_price = original_unit_price_stats['50%'] \n",
    "\n",
    "print(f\"Minimum original unit price: {min_price}\")\n",
    "print(f\"Maximum original unit price: {max_price}\")\n",
    "print(f\"Median original unit price: {median_price}\")\n"
   ]
  },
  {
   "cell_type": "markdown",
   "id": "ce6b4b9c",
   "metadata": {},
   "source": [
    "2) Find out the percentage of observations whose original_unit_price is greater than 350. Delete those observations using filtering. We will use the filtered dataset from now on."
   ]
  },
  {
   "cell_type": "code",
   "execution_count": 38,
   "id": "aacc2f83",
   "metadata": {},
   "outputs": [
    {
     "name": "stdout",
     "output_type": "stream",
     "text": [
      "Percentage of units greater than 350 unit price: 0.7474694948444424%\n"
     ]
    },
    {
     "data": {
      "text/html": [
       "<div>\n",
       "<style scoped>\n",
       "    .dataframe tbody tr th:only-of-type {\n",
       "        vertical-align: middle;\n",
       "    }\n",
       "\n",
       "    .dataframe tbody tr th {\n",
       "        vertical-align: top;\n",
       "    }\n",
       "\n",
       "    .dataframe thead th {\n",
       "        text-align: right;\n",
       "    }\n",
       "</style>\n",
       "<table border=\"1\" class=\"dataframe\">\n",
       "  <thead>\n",
       "    <tr style=\"text-align: right;\">\n",
       "      <th></th>\n",
       "      <th>order_ID</th>\n",
       "      <th>user_ID</th>\n",
       "      <th>sku_ID</th>\n",
       "      <th>order_date</th>\n",
       "      <th>order_time</th>\n",
       "      <th>quantity</th>\n",
       "      <th>type</th>\n",
       "      <th>promise</th>\n",
       "      <th>original_unit_price</th>\n",
       "      <th>final_unit_price</th>\n",
       "      <th>direct_discount_per_unit</th>\n",
       "      <th>quantity_discount_per_unit</th>\n",
       "      <th>bundle_discount_per_unit</th>\n",
       "      <th>coupon_discount_per_unit</th>\n",
       "      <th>gift_item</th>\n",
       "      <th>dc_ori</th>\n",
       "      <th>dc_des</th>\n",
       "    </tr>\n",
       "  </thead>\n",
       "  <tbody>\n",
       "    <tr>\n",
       "      <th>0</th>\n",
       "      <td>d0cf5cc6db</td>\n",
       "      <td>0abe9ef2ce</td>\n",
       "      <td>581d5b54c1</td>\n",
       "      <td>2018-03-01</td>\n",
       "      <td>2018-03-01 17:14:25.0</td>\n",
       "      <td>1</td>\n",
       "      <td>2</td>\n",
       "      <td>-</td>\n",
       "      <td>89.0</td>\n",
       "      <td>79.0</td>\n",
       "      <td>0.0</td>\n",
       "      <td>10.0</td>\n",
       "      <td>0.0</td>\n",
       "      <td>0.0</td>\n",
       "      <td>0</td>\n",
       "      <td>4</td>\n",
       "      <td>28</td>\n",
       "    </tr>\n",
       "    <tr>\n",
       "      <th>1</th>\n",
       "      <td>7444318d01</td>\n",
       "      <td>33a9e56257</td>\n",
       "      <td>067b673f2b</td>\n",
       "      <td>2018-03-01</td>\n",
       "      <td>2018-03-01 11:10:40.0</td>\n",
       "      <td>1</td>\n",
       "      <td>1</td>\n",
       "      <td>2</td>\n",
       "      <td>99.9</td>\n",
       "      <td>53.9</td>\n",
       "      <td>5.0</td>\n",
       "      <td>41.0</td>\n",
       "      <td>0.0</td>\n",
       "      <td>0.0</td>\n",
       "      <td>0</td>\n",
       "      <td>28</td>\n",
       "      <td>28</td>\n",
       "    </tr>\n",
       "    <tr>\n",
       "      <th>2</th>\n",
       "      <td>f973b01694</td>\n",
       "      <td>4ea3cf408f</td>\n",
       "      <td>623d0a582a</td>\n",
       "      <td>2018-03-01</td>\n",
       "      <td>2018-03-01 09:13:26.0</td>\n",
       "      <td>1</td>\n",
       "      <td>1</td>\n",
       "      <td>2</td>\n",
       "      <td>78.0</td>\n",
       "      <td>58.5</td>\n",
       "      <td>19.5</td>\n",
       "      <td>0.0</td>\n",
       "      <td>0.0</td>\n",
       "      <td>0.0</td>\n",
       "      <td>0</td>\n",
       "      <td>28</td>\n",
       "      <td>28</td>\n",
       "    </tr>\n",
       "    <tr>\n",
       "      <th>3</th>\n",
       "      <td>8c1cec8d4b</td>\n",
       "      <td>b87cb736cb</td>\n",
       "      <td>fc5289b139</td>\n",
       "      <td>2018-03-01</td>\n",
       "      <td>2018-03-01 21:29:50.0</td>\n",
       "      <td>1</td>\n",
       "      <td>1</td>\n",
       "      <td>2</td>\n",
       "      <td>61.0</td>\n",
       "      <td>35.0</td>\n",
       "      <td>0.0</td>\n",
       "      <td>26.0</td>\n",
       "      <td>0.0</td>\n",
       "      <td>0.0</td>\n",
       "      <td>0</td>\n",
       "      <td>4</td>\n",
       "      <td>28</td>\n",
       "    </tr>\n",
       "    <tr>\n",
       "      <th>4</th>\n",
       "      <td>d43a33c38a</td>\n",
       "      <td>4829223b6f</td>\n",
       "      <td>623d0a582a</td>\n",
       "      <td>2018-03-01</td>\n",
       "      <td>2018-03-01 19:13:37.0</td>\n",
       "      <td>1</td>\n",
       "      <td>1</td>\n",
       "      <td>1</td>\n",
       "      <td>78.0</td>\n",
       "      <td>53.0</td>\n",
       "      <td>19.0</td>\n",
       "      <td>0.0</td>\n",
       "      <td>0.0</td>\n",
       "      <td>6.0</td>\n",
       "      <td>0</td>\n",
       "      <td>3</td>\n",
       "      <td>16</td>\n",
       "    </tr>\n",
       "    <tr>\n",
       "      <th>...</th>\n",
       "      <td>...</td>\n",
       "      <td>...</td>\n",
       "      <td>...</td>\n",
       "      <td>...</td>\n",
       "      <td>...</td>\n",
       "      <td>...</td>\n",
       "      <td>...</td>\n",
       "      <td>...</td>\n",
       "      <td>...</td>\n",
       "      <td>...</td>\n",
       "      <td>...</td>\n",
       "      <td>...</td>\n",
       "      <td>...</td>\n",
       "      <td>...</td>\n",
       "      <td>...</td>\n",
       "      <td>...</td>\n",
       "      <td>...</td>\n",
       "    </tr>\n",
       "    <tr>\n",
       "      <th>549984</th>\n",
       "      <td>3ad06b9fbe</td>\n",
       "      <td>a27b3ed4d4</td>\n",
       "      <td>a9109972d1</td>\n",
       "      <td>2018-03-31</td>\n",
       "      <td>2018-03-31 01:22:47.0</td>\n",
       "      <td>1</td>\n",
       "      <td>2</td>\n",
       "      <td>-</td>\n",
       "      <td>0.0</td>\n",
       "      <td>-1.0</td>\n",
       "      <td>0.0</td>\n",
       "      <td>0.0</td>\n",
       "      <td>0.0</td>\n",
       "      <td>1.0</td>\n",
       "      <td>1</td>\n",
       "      <td>2</td>\n",
       "      <td>2</td>\n",
       "    </tr>\n",
       "    <tr>\n",
       "      <th>549985</th>\n",
       "      <td>c9d77a7ed0</td>\n",
       "      <td>18f92434cd</td>\n",
       "      <td>7f53769d3f</td>\n",
       "      <td>2018-03-31</td>\n",
       "      <td>2018-03-31 08:55:57.0</td>\n",
       "      <td>1</td>\n",
       "      <td>1</td>\n",
       "      <td>3</td>\n",
       "      <td>118.0</td>\n",
       "      <td>55.0</td>\n",
       "      <td>63.0</td>\n",
       "      <td>0.0</td>\n",
       "      <td>0.0</td>\n",
       "      <td>0.0</td>\n",
       "      <td>0</td>\n",
       "      <td>59</td>\n",
       "      <td>2</td>\n",
       "    </tr>\n",
       "    <tr>\n",
       "      <th>549986</th>\n",
       "      <td>b9ad79338f</td>\n",
       "      <td>b5caf8a580</td>\n",
       "      <td>8dc4a01dec</td>\n",
       "      <td>2018-03-31</td>\n",
       "      <td>2018-03-31 13:31:01.0</td>\n",
       "      <td>1</td>\n",
       "      <td>1</td>\n",
       "      <td>2</td>\n",
       "      <td>78.0</td>\n",
       "      <td>78.0</td>\n",
       "      <td>0.0</td>\n",
       "      <td>0.0</td>\n",
       "      <td>0.0</td>\n",
       "      <td>0.0</td>\n",
       "      <td>0</td>\n",
       "      <td>2</td>\n",
       "      <td>2</td>\n",
       "    </tr>\n",
       "    <tr>\n",
       "      <th>549987</th>\n",
       "      <td>be3a9414b1</td>\n",
       "      <td>20ba6655f3</td>\n",
       "      <td>2dd6b818ec</td>\n",
       "      <td>2018-03-31</td>\n",
       "      <td>2018-03-31 12:51:18.0</td>\n",
       "      <td>1</td>\n",
       "      <td>2</td>\n",
       "      <td>-</td>\n",
       "      <td>189.0</td>\n",
       "      <td>78.0</td>\n",
       "      <td>111.0</td>\n",
       "      <td>0.0</td>\n",
       "      <td>0.0</td>\n",
       "      <td>0.0</td>\n",
       "      <td>0</td>\n",
       "      <td>4</td>\n",
       "      <td>28</td>\n",
       "    </tr>\n",
       "    <tr>\n",
       "      <th>549988</th>\n",
       "      <td>02d31f05c9</td>\n",
       "      <td>f260895cbe</td>\n",
       "      <td>10d369ef96</td>\n",
       "      <td>2018-03-31</td>\n",
       "      <td>2018-03-31 18:21:16.0</td>\n",
       "      <td>1</td>\n",
       "      <td>2</td>\n",
       "      <td>4</td>\n",
       "      <td>68.0</td>\n",
       "      <td>49.0</td>\n",
       "      <td>19.0</td>\n",
       "      <td>0.0</td>\n",
       "      <td>0.0</td>\n",
       "      <td>0.0</td>\n",
       "      <td>0</td>\n",
       "      <td>4</td>\n",
       "      <td>28</td>\n",
       "    </tr>\n",
       "  </tbody>\n",
       "</table>\n",
       "<p>545878 rows × 17 columns</p>\n",
       "</div>"
      ],
      "text/plain": [
       "          order_ID     user_ID      sku_ID order_date             order_time  \\\n",
       "0       d0cf5cc6db  0abe9ef2ce  581d5b54c1 2018-03-01  2018-03-01 17:14:25.0   \n",
       "1       7444318d01  33a9e56257  067b673f2b 2018-03-01  2018-03-01 11:10:40.0   \n",
       "2       f973b01694  4ea3cf408f  623d0a582a 2018-03-01  2018-03-01 09:13:26.0   \n",
       "3       8c1cec8d4b  b87cb736cb  fc5289b139 2018-03-01  2018-03-01 21:29:50.0   \n",
       "4       d43a33c38a  4829223b6f  623d0a582a 2018-03-01  2018-03-01 19:13:37.0   \n",
       "...            ...         ...         ...        ...                    ...   \n",
       "549984  3ad06b9fbe  a27b3ed4d4  a9109972d1 2018-03-31  2018-03-31 01:22:47.0   \n",
       "549985  c9d77a7ed0  18f92434cd  7f53769d3f 2018-03-31  2018-03-31 08:55:57.0   \n",
       "549986  b9ad79338f  b5caf8a580  8dc4a01dec 2018-03-31  2018-03-31 13:31:01.0   \n",
       "549987  be3a9414b1  20ba6655f3  2dd6b818ec 2018-03-31  2018-03-31 12:51:18.0   \n",
       "549988  02d31f05c9  f260895cbe  10d369ef96 2018-03-31  2018-03-31 18:21:16.0   \n",
       "\n",
       "        quantity  type promise  original_unit_price  final_unit_price  \\\n",
       "0              1     2       -                 89.0              79.0   \n",
       "1              1     1       2                 99.9              53.9   \n",
       "2              1     1       2                 78.0              58.5   \n",
       "3              1     1       2                 61.0              35.0   \n",
       "4              1     1       1                 78.0              53.0   \n",
       "...          ...   ...     ...                  ...               ...   \n",
       "549984         1     2       -                  0.0              -1.0   \n",
       "549985         1     1       3                118.0              55.0   \n",
       "549986         1     1       2                 78.0              78.0   \n",
       "549987         1     2       -                189.0              78.0   \n",
       "549988         1     2       4                 68.0              49.0   \n",
       "\n",
       "        direct_discount_per_unit  quantity_discount_per_unit  \\\n",
       "0                            0.0                        10.0   \n",
       "1                            5.0                        41.0   \n",
       "2                           19.5                         0.0   \n",
       "3                            0.0                        26.0   \n",
       "4                           19.0                         0.0   \n",
       "...                          ...                         ...   \n",
       "549984                       0.0                         0.0   \n",
       "549985                      63.0                         0.0   \n",
       "549986                       0.0                         0.0   \n",
       "549987                     111.0                         0.0   \n",
       "549988                      19.0                         0.0   \n",
       "\n",
       "        bundle_discount_per_unit  coupon_discount_per_unit  gift_item  dc_ori  \\\n",
       "0                            0.0                       0.0          0       4   \n",
       "1                            0.0                       0.0          0      28   \n",
       "2                            0.0                       0.0          0      28   \n",
       "3                            0.0                       0.0          0       4   \n",
       "4                            0.0                       6.0          0       3   \n",
       "...                          ...                       ...        ...     ...   \n",
       "549984                       0.0                       1.0          1       2   \n",
       "549985                       0.0                       0.0          0      59   \n",
       "549986                       0.0                       0.0          0       2   \n",
       "549987                       0.0                       0.0          0       4   \n",
       "549988                       0.0                       0.0          0       4   \n",
       "\n",
       "        dc_des  \n",
       "0           28  \n",
       "1           28  \n",
       "2           28  \n",
       "3           28  \n",
       "4           16  \n",
       "...        ...  \n",
       "549984       2  \n",
       "549985       2  \n",
       "549986       2  \n",
       "549987      28  \n",
       "549988      28  \n",
       "\n",
       "[545878 rows x 17 columns]"
      ]
     },
     "execution_count": 38,
     "metadata": {},
     "output_type": "execute_result"
    }
   ],
   "source": [
    "price_gt_350 = df_order['original_unit_price'] > 350\n",
    "percentage_gt_350 = (price_gt_350.sum() / len(df_order)) * 100\n",
    "print(f\"Percentage of units greater than 350 unit price: {percentage_gt_350}%\")\n",
    "order_data_filtered = df_order.loc[df_order['original_unit_price'] <= 350]\n",
    "order_data_filtered"
   ]
  },
  {
   "cell_type": "markdown",
   "id": "0632e2a3",
   "metadata": {},
   "source": [
    "3) Examine the distribution of original_unit_price, using bins range from 0 to 350, width 10. Which price range has the most orders?"
   ]
  },
  {
   "cell_type": "code",
   "execution_count": 39,
   "id": "8121b9c5",
   "metadata": {},
   "outputs": [
    {
     "data": {
      "text/plain": [
       "(array([94988.,  5139.,  3643.,  9405., 12372., 42122., 52694., 74908.,\n",
       "        31649., 27685., 11848., 13242., 18957., 22047., 14749., 10859.,\n",
       "         6509., 13044.,  8028.,  9983.,  4189.,  1956.,   951.,  4021.,\n",
       "         7876.,  3596.,  2531.,   690.,   903., 28928.,  1502.,   178.,\n",
       "          873.,  3696.]),\n",
       " array([  0.,  10.,  20.,  30.,  40.,  50.,  60.,  70.,  80.,  90., 100.,\n",
       "        110., 120., 130., 140., 150., 160., 170., 180., 190., 200., 210.,\n",
       "        220., 230., 240., 250., 260., 270., 280., 290., 300., 310., 320.,\n",
       "        330., 340.]),\n",
       " <BarContainer object of 34 artists>)"
      ]
     },
     "execution_count": 39,
     "metadata": {},
     "output_type": "execute_result"
    },
    {
     "data": {
      "text/plain": [
       "Text(0.5, 1.0, 'Original Unit Price Distribution')"
      ]
     },
     "execution_count": 39,
     "metadata": {},
     "output_type": "execute_result"
    },
    {
     "data": {
      "image/png": "[encoded data removed]",
      "text/plain": [
       "<Figure size 640x480 with 1 Axes>"
      ]
     },
     "metadata": {},
     "output_type": "display_data"
    }
   ],
   "source": [
    "# Graph for Original Unit Price Distribution\n",
    "plt.hist(order_data_filtered['original_unit_price'], bins=range(0, 350, 10))\n",
    "plt.title('Original Unit Price Distribution')\n",
    "plt.show()\n"
   ]
  },
  {
   "cell_type": "markdown",
   "id": "41361250",
   "metadata": {},
   "source": [
    "28. Examine the distribution of final_unit_price, using bins range from -20 to 350, width 10. Comparing to original unit prices, how are the final prices different?"
   ]
  },
  {
   "cell_type": "code",
   "execution_count": 40,
   "id": "cbc89158",
   "metadata": {},
   "outputs": [
    {
     "data": {
      "text/plain": [
       "(array([2.4000e+01, 1.0000e+00, 1.7200e+02, 8.3400e+03, 9.2272e+04,\n",
       "        1.0100e+04, 1.6074e+04, 5.7240e+04, 5.6285e+04, 6.3391e+04,\n",
       "        5.4551e+04, 3.2208e+04, 1.7110e+04, 1.8179e+04, 1.4814e+04,\n",
       "        7.8970e+03, 1.4049e+04, 7.6800e+03, 1.2938e+04, 7.5770e+03,\n",
       "        1.0248e+04, 2.6340e+03, 4.1050e+03, 4.4710e+03, 1.2051e+04,\n",
       "        3.9150e+03, 8.7500e+03, 2.8630e+03, 2.8880e+03, 9.3500e+02,\n",
       "        4.3700e+02, 4.0200e+02, 3.7000e+02, 4.6500e+02, 1.8000e+02,\n",
       "        8.1000e+01, 7.1000e+01, 7.5000e+01, 3.5000e+01]),\n",
       " array([-40., -30., -20., -10.,   0.,  10.,  20.,  30.,  40.,  50.,  60.,\n",
       "         70.,  80.,  90., 100., 110., 120., 130., 140., 150., 160., 170.,\n",
       "        180., 190., 200., 210., 220., 230., 240., 250., 260., 270., 280.,\n",
       "        290., 300., 310., 320., 330., 340., 350.]),\n",
       " <BarContainer object of 39 artists>)"
      ]
     },
     "execution_count": 40,
     "metadata": {},
     "output_type": "execute_result"
    },
    {
     "data": {
      "text/plain": [
       "Text(0.5, 1.0, 'Final Unit Price Distribution')"
      ]
     },
     "execution_count": 40,
     "metadata": {},
     "output_type": "execute_result"
    },
    {
     "data": {
      "image/png": "[encoded data removed]",
      "text/plain": [
       "<Figure size 640x480 with 1 Axes>"
      ]
     },
     "metadata": {},
     "output_type": "display_data"
    }
   ],
   "source": [
    "# Graph for Final Unit Price Distribution\n",
    "plt.hist(order_data_filtered['final_unit_price'], bins=range(-40, 360, 10))\n",
    "plt.title('Final Unit Price Distribution')\n",
    "plt.show()"
   ]
  },
  {
   "cell_type": "markdown",
   "id": "3146104a",
   "metadata": {},
   "source": [
    "29. Create a new variable 'sales', which is equal to the multiplication of quantity and final unit price. Make a graph for sales by day as in Q25."
   ]
  },
  {
   "cell_type": "code",
   "execution_count": 41,
   "id": "78d29d15",
   "metadata": {},
   "outputs": [],
   "source": [
    "#quantity_per_day = order_data_filtered.groupby(order_data_filtered['day'])['quantity'].sum()\n",
    "#sales = quantity_per_day * order_data_filtered['final_unit_price']\n",
    "#plt.plot(sales.index, sales.values)\n",
    "#plt.title('Filtered Table Daily Sales')\n",
    "#plt.show()"
   ]
  },
  {
   "cell_type": "markdown",
   "id": "f8b594ac",
   "metadata": {},
   "source": [
    "30. Try to answer one descriptive question you asked in your project initial report."
   ]
  },
  {
   "cell_type": "code",
   "execution_count": 42,
   "id": "b6d837ae",
   "metadata": {},
   "outputs": [
    {
     "name": "stdout",
     "output_type": "stream",
     "text": [
      "type\n",
      "1    2.321762\n",
      "2    3.532353\n",
      "Name: coupon_discount_per_unit, dtype: float64\n"
     ]
    }
   ],
   "source": [
    "#1.What is the average coupon discount per order? the given product category?\n",
    "avg_discount_by_category = df_order.groupby('type')['coupon_discount_per_unit'].mean()\n",
    "print(avg_discount_by_category)"
   ]
  },
  {
   "cell_type": "markdown",
   "id": "ad1f4273",
   "metadata": {},
   "source": [
    "\n",
    "# Assignment 11 starts from here: Q31-Q40.\n",
    "We only covered a small part of data exploration in Assignment 10. If you are interested, you can make many more graphs to understand the data. <br>\n",
    "Next we intend to build models to predict delivery times."
   ]
  },
  {
   "cell_type": "markdown",
   "id": "c6c89366",
   "metadata": {},
   "source": [
    "We want to use two sets of features to make predictions.<br>\n",
    "1. order effect: This class of predictors captures thevcharacteristics of an order that may impact deliveryvtime, such as the number of items (SKUs), order size (quantity), order type (1P or 3P), discount rate and the number of gift items.<br>\n",
    "2. User effect: The process may prioritize certain customers over others, for example, customers with a PLUSmembership or higher past purchase values.<br>\n",
    "Note: Actually, it will be better if we can include real-time workloads of distribution centers. It can be done with this dataset, but might be a little too much for us. So, we will leave that part out."
   ]
  },
  {
   "cell_type": "markdown",
   "id": "33d6413f",
   "metadata": {},
   "source": [
    "We need to further process the data to prepare the features.<br>\n",
    "<b>Note: Here I have done this part. You need to change the name of DataFrame \"order_delivery_inner' to your dataframe name that results from all the previous steps. Make sure you run the cells before you proceed.</b>"
   ]
  },
  {
   "cell_type": "markdown",
   "id": "10cf74cd",
   "metadata": {},
   "source": [
    "31. The dataset we have so far is based on order-items. Each row is an item in an order. Now we need to aggregate by order to match order information with delivery information. Afterwards, each row is about one delivery / one order because we have already removed orders that have multiple deliveries."
   ]
  },
  {
   "cell_type": "markdown",
   "id": "8b4dad87",
   "metadata": {},
   "source": [
    "First, let's calculate order values by multiply price and quantity."
   ]
  },
  {
   "cell_type": "code",
   "execution_count": 43,
   "id": "176d711d",
   "metadata": {},
   "outputs": [],
   "source": [
    "merged_de_inner = pd.merge(df_order, df_delivery, on='order_ID', how='inner')"
   ]
  },
  {
   "cell_type": "code",
   "execution_count": 44,
   "id": "346feb86",
   "metadata": {},
   "outputs": [],
   "source": [
    "# Original value of items\n",
    "merged_data_inner['originValue'] = merged_data_inner['original_unit_price'] \\\n",
    "                                        * merged_data_inner['quantity']\n",
    "\n",
    "# Final value of items                                    \n",
    "merged_data_inner['finalValue'] = merged_data_inner['final_unit_price'] \\\n",
    "                                    * merged_data_inner['quantity']                                   "
   ]
  },
  {
   "cell_type": "markdown",
   "id": "04125975",
   "metadata": {},
   "source": [
    "Next we aggregate by each order. <br>\n",
    "Please pay attention to the variable names. They should be consistent with yours. Make changes when necessary. <br>\n",
    "\n",
    "Variables that are the same across one order:<br>\n",
    "user_ID<br>\n",
    "order type - type_x<br>\n",
    "delivery time - delivery_time<br>\n",
    "order day - order_day<br>\n",
    "order hour - order_hour<br>\n",
    "<br>\n",
    "<br>\n",
    "Variables to be aggregated across one order:<br>\n",
    "sku_ID - to count to calculate the number of different products<br>\n",
    "quantity - to sum to calculate the order size<br>\n",
    "originValue - to sum to calculate sales value with the original price<br>\n",
    "finalValue - to sum to calculate final sales value<br>\n",
    "discount rate<br>\n",
    "gift_item - to sum to calculate the number of gift items<br>\n",
    "\n",
    "Therefore, we need to do the following:<br>\n",
    "\n",
    "1. For variables that are the same across one order, we can use the 'first' method to keep the value in the groupby result.<br>\n",
    "2. For variables to be aggregated, we specify aggregation for each of them.<br>\n",
    "3. We can use a dictionary to put all actions together."
   ]
  },
  {
   "cell_type": "code",
   "execution_count": 45,
   "id": "e4ec37db",
   "metadata": {},
   "outputs": [
    {
     "data": {
      "text/html": [
       "<div>\n",
       "<style scoped>\n",
       "    .dataframe tbody tr th:only-of-type {\n",
       "        vertical-align: middle;\n",
       "    }\n",
       "\n",
       "    .dataframe tbody tr th {\n",
       "        vertical-align: top;\n",
       "    }\n",
       "\n",
       "    .dataframe thead th {\n",
       "        text-align: right;\n",
       "    }\n",
       "</style>\n",
       "<table border=\"1\" class=\"dataframe\">\n",
       "  <thead>\n",
       "    <tr style=\"text-align: right;\">\n",
       "      <th></th>\n",
       "      <th>order_ID</th>\n",
       "      <th>user_ID</th>\n",
       "      <th>type_x</th>\n",
       "      <th>delivery_time</th>\n",
       "      <th>order_day</th>\n",
       "      <th>order_hour</th>\n",
       "      <th>sku_ID</th>\n",
       "      <th>quantity</th>\n",
       "      <th>originValue</th>\n",
       "      <th>finalValue</th>\n",
       "      <th>gift_item</th>\n",
       "    </tr>\n",
       "  </thead>\n",
       "  <tbody>\n",
       "    <tr>\n",
       "      <th>0</th>\n",
       "      <td>0000095025</td>\n",
       "      <td>57648ed1fc</td>\n",
       "      <td>1</td>\n",
       "      <td>0 days 22:48:26</td>\n",
       "      <td>19</td>\n",
       "      <td>11</td>\n",
       "      <td>1</td>\n",
       "      <td>1</td>\n",
       "      <td>230.0</td>\n",
       "      <td>176.2</td>\n",
       "      <td>0</td>\n",
       "    </tr>\n",
       "    <tr>\n",
       "      <th>1</th>\n",
       "      <td>00000e13eb</td>\n",
       "      <td>c113527e40</td>\n",
       "      <td>0</td>\n",
       "      <td>2 days 05:19:18</td>\n",
       "      <td>9</td>\n",
       "      <td>12</td>\n",
       "      <td>1</td>\n",
       "      <td>1</td>\n",
       "      <td>56.0</td>\n",
       "      <td>56.0</td>\n",
       "      <td>0</td>\n",
       "    </tr>\n",
       "    <tr>\n",
       "      <th>2</th>\n",
       "      <td>0000132b39</td>\n",
       "      <td>c4f5626c0d</td>\n",
       "      <td>1</td>\n",
       "      <td>0 days 22:29:25</td>\n",
       "      <td>13</td>\n",
       "      <td>16</td>\n",
       "      <td>1</td>\n",
       "      <td>1</td>\n",
       "      <td>89.0</td>\n",
       "      <td>85.0</td>\n",
       "      <td>0</td>\n",
       "    </tr>\n",
       "    <tr>\n",
       "      <th>3</th>\n",
       "      <td>000064fa67</td>\n",
       "      <td>99439045cb</td>\n",
       "      <td>1</td>\n",
       "      <td>0 days 08:03:43</td>\n",
       "      <td>2</td>\n",
       "      <td>10</td>\n",
       "      <td>2</td>\n",
       "      <td>2</td>\n",
       "      <td>298.0</td>\n",
       "      <td>208.0</td>\n",
       "      <td>1</td>\n",
       "    </tr>\n",
       "    <tr>\n",
       "      <th>4</th>\n",
       "      <td>0000bde331</td>\n",
       "      <td>20d84fc11a</td>\n",
       "      <td>1</td>\n",
       "      <td>0 days 21:37:06</td>\n",
       "      <td>17</td>\n",
       "      <td>14</td>\n",
       "      <td>1</td>\n",
       "      <td>1</td>\n",
       "      <td>59.9</td>\n",
       "      <td>39.9</td>\n",
       "      <td>0</td>\n",
       "    </tr>\n",
       "  </tbody>\n",
       "</table>\n",
       "</div>"
      ],
      "text/plain": [
       "     order_ID     user_ID  type_x   delivery_time  order_day  order_hour  \\\n",
       "0  0000095025  57648ed1fc       1 0 days 22:48:26         19          11   \n",
       "1  00000e13eb  c113527e40       0 2 days 05:19:18          9          12   \n",
       "2  0000132b39  c4f5626c0d       1 0 days 22:29:25         13          16   \n",
       "3  000064fa67  99439045cb       1 0 days 08:03:43          2          10   \n",
       "4  0000bde331  20d84fc11a       1 0 days 21:37:06         17          14   \n",
       "\n",
       "   sku_ID  quantity  originValue  finalValue  gift_item  \n",
       "0       1         1        230.0       176.2          0  \n",
       "1       1         1         56.0        56.0          0  \n",
       "2       1         1         89.0        85.0          0  \n",
       "3       2         2        298.0       208.0          1  \n",
       "4       1         1         59.9        39.9          0  "
      ]
     },
     "execution_count": 45,
     "metadata": {},
     "output_type": "execute_result"
    }
   ],
   "source": [
    "agg_dict = {\n",
    "    'user_ID': 'first',\n",
    "    'type_x': 'first',\n",
    "    'delivery_time': 'first',\n",
    "    'order_day': 'first',\n",
    "    'order_hour':'first',\n",
    "    'sku_ID': 'count',\n",
    "    'quantity': 'sum',\n",
    "    'originValue': 'sum',\n",
    "    'finalValue': 'sum',\n",
    "    'gift_item': 'sum'\n",
    "}\n",
    "\n",
    "order_agg = merged_data_inner.groupby('order_ID').agg(agg_dict).reset_index()\n",
    "order_agg.head()"
   ]
  },
  {
   "cell_type": "markdown",
   "id": "31f0a107",
   "metadata": {},
   "source": [
    "32. Merge user table with this aggregated order table."
   ]
  },
  {
   "cell_type": "code",
   "execution_count": 46,
   "id": "d9eca684",
   "metadata": {},
   "outputs": [],
   "source": [
    "order_user = pd.merge(order_agg, df_user, on = 'user_ID', how = 'inner')"
   ]
  },
  {
   "cell_type": "markdown",
   "id": "0d1acbf7",
   "metadata": {},
   "source": [
    "33. We need to code a few more variables."
   ]
  },
  {
   "cell_type": "code",
   "execution_count": 47,
   "id": "93bc7c47",
   "metadata": {},
   "outputs": [],
   "source": [
    "# First we remove the orders with originValue is 0\n",
    "order_user = order_user[order_user['originValue'] != 0]"
   ]
  },
  {
   "cell_type": "code",
   "execution_count": 48,
   "id": "82b71ce4",
   "metadata": {},
   "outputs": [],
   "source": [
    "# Discount rate\n",
    "order_user['dis_rate'] = (order_user['originValue'] - order_user['finalValue'])/order_user['originValue']\n",
    "# order_hour coded to be busy vs. not busy\n",
    "order_user['busy_hour'] = order_user['order_hour'].apply(lambda h: 1 if 8<=h<=22 else 0)"
   ]
  },
  {
   "cell_type": "markdown",
   "id": "2cc7e280",
   "metadata": {},
   "source": [
    "34. Prepare data for analysis. The target variable is 'delivery_time'.<br>\n",
    "Features: 'type_x', 'sku_ID', 'quantity', 'finalValue', 'gift_item', 'plus', 'dis_rate', 'busy_hour'"
   ]
  },
  {
   "cell_type": "code",
   "execution_count": 49,
   "id": "622d9bc7",
   "metadata": {},
   "outputs": [
    {
     "name": "stdout",
     "output_type": "stream",
     "text": [
      "0         22.807222\n",
      "1         53.321667\n",
      "2         22.490278\n",
      "3          8.061944\n",
      "4         21.618333\n",
      "            ...    \n",
      "293198    47.689722\n",
      "293199    14.148056\n",
      "293200    22.313333\n",
      "293201    87.863611\n",
      "293202    40.359722\n",
      "Name: delivery_duration_hours, Length: 280155, dtype: float64\n"
     ]
    }
   ],
   "source": [
    "order_user['delivery_time'] = pd.to_timedelta(order_user['delivery_time'])\n",
    "\n",
    "# Convert timedelta to hours\n",
    "order_user['delivery_duration_hours'] = order_user['delivery_time'] / pd.Timedelta(hours=1)\n",
    "\n",
    "# Display the delivery duration in hours\n",
    "print(order_user['delivery_duration_hours'])\n",
    "X = order_user[[\"type_x\",\"sku_ID\",\"quantity\",\"finalValue\",\"gift_item\",\"plus\",\"dis_rate\",\"busy_hour\"]]\n",
    "y = order_user[\"delivery_duration_hours\"]"
   ]
  },
  {
   "cell_type": "markdown",
   "id": "57a5741e",
   "metadata": {},
   "source": [
    "35. Prepare the training and test datasets"
   ]
  },
  {
   "cell_type": "code",
   "execution_count": 50,
   "id": "3cb92cf3",
   "metadata": {},
   "outputs": [],
   "source": [
    "from sklearn.model_selection import train_test_split\n",
    "X_train, X_test, y_train, y_test = train_test_split(X, y, test_size=0.3, random_state=42)"
   ]
  },
  {
   "cell_type": "code",
   "execution_count": null,
   "id": "44baaa09",
   "metadata": {},
   "outputs": [],
   "source": []
  },
  {
   "cell_type": "markdown",
   "id": "1d461aac",
   "metadata": {},
   "source": [
    "36. Train a Decision Tree regression model."
   ]
  },
  {
   "cell_type": "code",
   "execution_count": 51,
   "id": "fb0c5f77",
   "metadata": {},
   "outputs": [
    {
     "data": {
      "text/html": [
       "<style>#sk-container-id-1 {color: black;}#sk-container-id-1 pre{padding: 0;}#sk-container-id-1 div.sk-toggleable {background-color: white;}#sk-container-id-1 label.sk-toggleable__label {cursor: pointer;display: block;width: 100%;margin-bottom: 0;padding: 0.3em;box-sizing: border-box;text-align: center;}#sk-container-id-1 label.sk-toggleable__label-arrow:before {content: \"▸\";float: left;margin-right: 0.25em;color: #696969;}#sk-container-id-1 label.sk-toggleable__label-arrow:hover:before {color: black;}#sk-container-id-1 div.sk-estimator:hover label.sk-toggleable__label-arrow:before {color: black;}#sk-container-id-1 div.sk-toggleable__content {max-height: 0;max-width: 0;overflow: hidden;text-align: left;background-color: #f0f8ff;}#sk-container-id-1 div.sk-toggleable__content pre {margin: 0.2em;color: black;border-radius: 0.25em;background-color: #f0f8ff;}#sk-container-id-1 input.sk-toggleable__control:checked~div.sk-toggleable__content {max-height: 200px;max-width: 100%;overflow: auto;}#sk-container-id-1 input.sk-toggleable__control:checked~label.sk-toggleable__label-arrow:before {content: \"▾\";}#sk-container-id-1 div.sk-estimator input.sk-toggleable__control:checked~label.sk-toggleable__label {background-color: #d4ebff;}#sk-container-id-1 div.sk-label input.sk-toggleable__control:checked~label.sk-toggleable__label {background-color: #d4ebff;}#sk-container-id-1 input.sk-hidden--visually {border: 0;clip: rect(1px 1px 1px 1px);clip: rect(1px, 1px, 1px, 1px);height: 1px;margin: -1px;overflow: hidden;padding: 0;position: absolute;width: 1px;}#sk-container-id-1 div.sk-estimator {font-family: monospace;background-color: #f0f8ff;border: 1px dotted black;border-radius: 0.25em;box-sizing: border-box;margin-bottom: 0.5em;}#sk-container-id-1 div.sk-estimator:hover {background-color: #d4ebff;}#sk-container-id-1 div.sk-parallel-item::after {content: \"\";width: 100%;border-bottom: 1px solid gray;flex-grow: 1;}#sk-container-id-1 div.sk-label:hover label.sk-toggleable__label {background-color: #d4ebff;}#sk-container-id-1 div.sk-serial::before {content: \"\";position: absolute;border-left: 1px solid gray;box-sizing: border-box;top: 0;bottom: 0;left: 50%;z-index: 0;}#sk-container-id-1 div.sk-serial {display: flex;flex-direction: column;align-items: center;background-color: white;padding-right: 0.2em;padding-left: 0.2em;position: relative;}#sk-container-id-1 div.sk-item {position: relative;z-index: 1;}#sk-container-id-1 div.sk-parallel {display: flex;align-items: stretch;justify-content: center;background-color: white;position: relative;}#sk-container-id-1 div.sk-item::before, #sk-container-id-1 div.sk-parallel-item::before {content: \"\";position: absolute;border-left: 1px solid gray;box-sizing: border-box;top: 0;bottom: 0;left: 50%;z-index: -1;}#sk-container-id-1 div.sk-parallel-item {display: flex;flex-direction: column;z-index: 1;position: relative;background-color: white;}#sk-container-id-1 div.sk-parallel-item:first-child::after {align-self: flex-end;width: 50%;}#sk-container-id-1 div.sk-parallel-item:last-child::after {align-self: flex-start;width: 50%;}#sk-container-id-1 div.sk-parallel-item:only-child::after {width: 0;}#sk-container-id-1 div.sk-dashed-wrapped {border: 1px dashed gray;margin: 0 0.4em 0.5em 0.4em;box-sizing: border-box;padding-bottom: 0.4em;background-color: white;}#sk-container-id-1 div.sk-label label {font-family: monospace;font-weight: bold;display: inline-block;line-height: 1.2em;}#sk-container-id-1 div.sk-label-container {text-align: center;}#sk-container-id-1 div.sk-container {/* jupyter's `normalize.less` sets `[hidden] { display: none; }` but bootstrap.min.css set `[hidden] { display: none !important; }` so we also need the `!important` here to be able to override the default hidden behavior on the sphinx rendered scikit-learn.org. See: https://github.com/scikit-learn/scikit-learn/issues/21755 */display: inline-block !important;position: relative;}#sk-container-id-1 div.sk-text-repr-fallback {display: none;}</style><div id=\"sk-container-id-1\" class=\"sk-top-container\"><div class=\"sk-text-repr-fallback\"><pre>DecisionTreeRegressor(random_state=42)</pre><b>In a Jupyter environment, please rerun this cell to show the HTML representation or trust the notebook. <br />On GitHub, the HTML representation is unable to render, please try loading this page with nbviewer.org.</b></div><div class=\"sk-container\" hidden><div class=\"sk-item\"><div class=\"sk-estimator sk-toggleable\"><input class=\"sk-toggleable__control sk-hidden--visually\" id=\"sk-estimator-id-1\" type=\"checkbox\" checked><label for=\"sk-estimator-id-1\" class=\"sk-toggleable__label sk-toggleable__label-arrow\">DecisionTreeRegressor</label><div class=\"sk-toggleable__content\"><pre>DecisionTreeRegressor(random_state=42)</pre></div></div></div></div></div>"
      ],
      "text/plain": [
       "DecisionTreeRegressor(random_state=42)"
      ]
     },
     "execution_count": 51,
     "metadata": {},
     "output_type": "execute_result"
    }
   ],
   "source": [
    "from sklearn.tree import DecisionTreeRegressor\n",
    "regressor = DecisionTreeRegressor(random_state=42)\n",
    "regressor.fit(X_train, y_train)"
   ]
  },
  {
   "cell_type": "markdown",
   "id": "409fac41",
   "metadata": {},
   "source": [
    "37. Make predictions on the testing data."
   ]
  },
  {
   "cell_type": "code",
   "execution_count": 52,
   "id": "a50f7cac",
   "metadata": {},
   "outputs": [
    {
     "data": {
      "text/plain": [
       "array([67.97847222, 21.47609477, 65.32104971, ..., 25.80830247,\n",
       "       32.83694444, 25.73700617])"
      ]
     },
     "execution_count": 52,
     "metadata": {},
     "output_type": "execute_result"
    }
   ],
   "source": [
    "predictions = regressor.predict(X_test)\n",
    "predictions"
   ]
  },
  {
   "cell_type": "markdown",
   "id": "7b6eacf8",
   "metadata": {},
   "source": [
    "38. Evaluate the model using RMSE"
   ]
  },
  {
   "cell_type": "code",
   "execution_count": 53,
   "id": "57ab2078",
   "metadata": {},
   "outputs": [
    {
     "name": "stdout",
     "output_type": "stream",
     "text": [
      "Root Mean Squared Error on Testing Data: 27.00\n"
     ]
    }
   ],
   "source": [
    "from sklearn.metrics import mean_squared_error\n",
    "import numpy as np\n",
    "mse_test = mean_squared_error(y_test, predictions)\n",
    "rmse_test = np.sqrt(mse_test)\n",
    "print(f\"Root Mean Squared Error on Testing Data: {rmse_test:.2f}\")"
   ]
  },
  {
   "cell_type": "code",
   "execution_count": 54,
   "id": "ddca1929",
   "metadata": {},
   "outputs": [
    {
     "data": {
      "text/plain": [
       "count                       280155\n",
       "mean     1 days 09:41:04.107469079\n",
       "std      1 days 04:22:30.757980040\n",
       "min              -1 days +07:25:00\n",
       "25%                0 days 17:21:10\n",
       "50%                0 days 23:33:42\n",
       "75%                1 days 19:01:48\n",
       "max               26 days 17:13:03\n",
       "Name: delivery_time, dtype: object"
      ]
     },
     "execution_count": 54,
     "metadata": {},
     "output_type": "execute_result"
    }
   ],
   "source": [
    "# To understand the RMSE, We check the statistics of the target variable.\n",
    "order_user['delivery_time'].describe()\n",
    "# It seems the mean is about 34 hours. With RMSE being about 27, \n",
    "# the prediction seems not very good.\n",
    "# If you are interested to explore more, you may try some other prediction methods to see \n",
    "# whether you can get better results."
   ]
  },
  {
   "cell_type": "code",
   "execution_count": null,
   "id": "bff86c3b",
   "metadata": {},
   "outputs": [],
   "source": []
  }
 ],
 "metadata": {
  "kernelspec": {
   "display_name": "Python 3 (ipykernel)",
   "language": "python",
   "name": "python3"
  },
  "language_info": {
   "codemirror_mode": {
    "name": "ipython",
    "version": 3
   },
   "file_extension": ".py",
   "mimetype": "text/x-python",
   "name": "python",
   "nbconvert_exporter": "python",
   "pygments_lexer": "ipython3",
   "version": "3.11.4"
  }
 },
 "nbformat": 4,
 "nbformat_minor": 5
}
